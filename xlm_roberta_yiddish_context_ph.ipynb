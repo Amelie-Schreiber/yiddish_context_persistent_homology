{
 "cells": [
  {
   "cell_type": "code",
   "execution_count": 1,
   "metadata": {},
   "outputs": [
    {
     "name": "stdout",
     "output_type": "stream",
     "text": [
      "Note: you may need to restart the kernel to use updated packages.\n"
     ]
    }
   ],
   "source": [
    "pip install transformers torch numpy gudhi -q"
   ]
  },
  {
   "cell_type": "code",
   "execution_count": 12,
   "metadata": {},
   "outputs": [],
   "source": [
    "text = [\"קלעזמער איז אַ טראַדיציאָנעלע ייִדיש מוזיק פון מיטל אייראָפע און רוסלאַנד, וואָס האָט זיך אויסגעוויקלט איבער די יאָרהונדערטן. דאָס נשמה קלאַנג איז קענטשענדיק פֿאַר זייַן הערציקע ניגונים און קענענדיקע ריטמען. זייַנע מוזיק האָט געווינען די באַגלייטונג פֿאַר אַלע לעבענס איבענטן, פֿון די הייליקע יאָמער צו די גלעזלעך פון שנאַפּס.\"]"
   ]
  },
  {
   "cell_type": "code",
   "execution_count": 9,
   "metadata": {},
   "outputs": [
    {
     "name": "stderr",
     "output_type": "stream",
     "text": [
      "Some weights of the model checkpoint at bert-base-multilingual-cased were not used when initializing BertModel: ['cls.seq_relationship.weight', 'cls.predictions.transform.dense.bias', 'cls.predictions.transform.dense.weight', 'cls.predictions.transform.LayerNorm.weight', 'cls.predictions.bias', 'cls.predictions.transform.LayerNorm.bias', 'cls.seq_relationship.bias']\n",
      "- This IS expected if you are initializing BertModel from the checkpoint of a model trained on another task or with another architecture (e.g. initializing a BertForSequenceClassification model from a BertForPreTraining model).\n",
      "- This IS NOT expected if you are initializing BertModel from the checkpoint of a model that you expect to be exactly identical (initializing a BertForSequenceClassification model from a BertForSequenceClassification model).\n"
     ]
    },
    {
     "name": "stdout",
     "output_type": "stream",
     "text": [
      "torch.Size([1, 198, 64])\n",
      "tensor([[[ 0.2946,  0.3195,  0.5151,  ...,  0.1742,  0.5748, -0.4928],\n",
      "         [ 0.3208,  0.2298, -0.2154,  ...,  0.0791, -0.0725,  0.2700],\n",
      "         [-0.2104, -0.1839, -0.3183,  ..., -0.0049,  0.7208,  0.0886],\n",
      "         ...,\n",
      "         [ 0.1044, -0.8680, -0.5323,  ..., -0.6138,  0.3873, -1.1973],\n",
      "         [-0.2339, -0.5358, -0.2803,  ..., -0.6214,  0.2151,  0.0220],\n",
      "         [ 0.7963,  0.3914,  0.3441,  ...,  0.2713,  0.7289, -0.5224]]],\n",
      "       grad_fn=<CloneBackward0>)\n"
     ]
    }
   ],
   "source": [
    "import torch\n",
    "from transformers import BertTokenizer, BertModel\n",
    "from transformers import BertModel, BertTokenizerFast\n",
    "from transformers import AutoTokenizer, AutoModel\n",
    "\n",
    "\n",
    "def compute_output(sentence, layer, head):\n",
    "    # Load pre-trained model\n",
    "    model = BertModel.from_pretrained('bert-base-multilingual-cased', output_attentions=True)\n",
    "    tokenizer = BertTokenizer.from_pretrained('bert-base-multilingual-cased')\n",
    "\n",
    "\n",
    "    # Tokenize input and convert to tensor\n",
    "    inputs = tokenizer(sentence, return_tensors=\"pt\")\n",
    "\n",
    "    # Forward pass\n",
    "    # Specify `output_hidden_states=True` when calling the model\n",
    "    outputs = model(**inputs, output_attentions=True, output_hidden_states=True)\n",
    "\n",
    "    # Obtain the attention weights\n",
    "    attentions = outputs.attentions\n",
    "\n",
    "    # Obtain the attention weights for the specific layer and head\n",
    "    S = attentions[layer][0, head]\n",
    "\n",
    "    # Obtain the value vectors\n",
    "    model.eval()\n",
    "    with torch.no_grad():\n",
    "        hidden_states = outputs.hidden_states[layer]\n",
    "        all_W_v = model.encoder.layer[layer].attention.self.value.weight\n",
    "        num_heads = model.config.num_attention_heads\n",
    "        head_dim = model.config.hidden_size // num_heads\n",
    "        W_v_heads = all_W_v.view(num_heads, head_dim, model.config.hidden_size)\n",
    "        W_v = W_v_heads[head]\n",
    "        V = torch.matmul(hidden_states, W_v.t())\n",
    "\n",
    "    # Compute the output O\n",
    "    O = torch.matmul(S, V)\n",
    "\n",
    "    return O\n",
    "\n",
    "# Set the layer and head to use for computation\n",
    "layer = 5\n",
    "head = 10\n",
    "\n",
    "# Compute the context vectors for each text in the corpus\n",
    "context = [compute_output(t, layer, head) for t in text]\n",
    "print(context[0].shape)\n",
    "print(context[0])"
   ]
  },
  {
   "cell_type": "code",
   "execution_count": 10,
   "metadata": {},
   "outputs": [
    {
     "name": "stdout",
     "output_type": "stream",
     "text": [
      "Barcode for text 0:\n"
     ]
    },
    {
     "data": {
      "image/png": "[encoded data removed]",
      "text/plain": [
       "<Figure size 640x480 with 1 Axes>"
      ]
     },
     "metadata": {},
     "output_type": "display_data"
    }
   ],
   "source": [
    "import matplotlib.pyplot as plt\n",
    "import numpy as np\n",
    "from scipy.spatial import distance_matrix\n",
    "import gudhi as gd\n",
    "\n",
    "def compute_distances_and_plot_barcode(output):\n",
    "    # Detach the output tensor, squeeze, and convert to numpy array\n",
    "    output_np = output.squeeze().detach().numpy()\n",
    "\n",
    "    # Compute the pairwise Euclidean distance matrix\n",
    "    distances = distance_matrix(output_np, output_np)\n",
    "\n",
    "    # Compute the persistent homology of the distance matrix\n",
    "    rips_complex = gd.RipsComplex(distance_matrix=distances, max_edge_length=np.max(distances))\n",
    "    simplex_tree = rips_complex.create_simplex_tree(max_dimension=2)\n",
    "    persistent_homology = simplex_tree.persistence(min_persistence=0.001)\n",
    "    \n",
    "    # Plot the barcode diagram\n",
    "    gd.plot_persistence_barcode(persistence=persistent_homology)\n",
    "    plt.show()\n",
    "\n",
    "# Compute the barcode diagrams for each context vector\n",
    "for i, output in enumerate(context):\n",
    "    print(f\"Barcode for text {i}:\")\n",
    "    compute_distances_and_plot_barcode(output)"
   ]
  },
  {
   "cell_type": "code",
   "execution_count": 11,
   "metadata": {},
   "outputs": [
    {
     "name": "stdout",
     "output_type": "stream",
     "text": [
      "Clusters for text 0:\n",
      "Cluster 0: [CLS], [SEP]\n",
      "Cluster 1: די, די, ד\n",
      "Cluster 2: ##ני, ##ני, ##ני\n",
      "Cluster 3: ##נג, ##נג, ##נג\n",
      "Cluster 4: אי, ו\n",
      "Cluster 5: ##ָ, ##ָ\n",
      "Cluster 6: ##רט, ##רט\n",
      "Cluster 7: ##שי, ##נא\n",
      "Cluster 8: ##ָ, ##ָ\n",
      "Cluster 9: ##ס, ##ס, ##ס\n",
      "Cluster 10: נ, ז, אי, ק, ה, ק, ז, ג\n",
      "Cluster 11: ##י, ##ויר, ##ע, ##ע, ##יי\n",
      "Cluster 12: נ, ו, ו, ו, אי, או\n",
      "Cluster 13: ##ָ, ##ַ\n",
      "Cluster 14: ##טו, ##נע, ##ני\n",
      "Cluster 15: ##וא, ##וי\n",
      "Cluster 16: ב, ד, ס\n",
      "Cluster 17: ##יף, ##מט\n",
      "Cluster 18: קו, [UNK]\n",
      "Cluster 19: ##ני, ##נע, ##נע\n",
      "Cluster 20: מקום, פון\n",
      "Cluster 21: ##טו, ##זי\n",
      "Cluster 22: ,, ,, ,, .\n",
      "Cluster 23: ##ן, ##ן\n",
      "Cluster 24: ##ע, ##ע\n",
      "Cluster 25: ##ַ, ##ַ\n",
      "Cluster 26: ##מא, ##טי\n",
      "Cluster 27: ##נט, ש, ##נע\n"
     ]
    }
   ],
   "source": [
    "from scipy.spatial.distance import pdist, squareform\n",
    "from sklearn.cluster import DBSCAN\n",
    "from transformers import BertTokenizer\n",
    "from transformers import BertModel, BertTokenizerFast\n",
    "\n",
    "def cluster_and_get_words(context, sentence, eps=2.8):\n",
    "    # Load pre-trained model tokenizer\n",
    "    tokenizer = BertTokenizer.from_pretrained('bert-base-multilingual-cased')\n",
    "\n",
    "\n",
    "    # Tokenize input and convert to tensor\n",
    "    inputs = tokenizer(sentence, return_tensors=\"pt\")\n",
    "    tokens = tokenizer.convert_ids_to_tokens(inputs['input_ids'][0])\n",
    "\n",
    "    # Squeeze the context tensor to remove the batch size dimension\n",
    "    context = context.squeeze(0)\n",
    "\n",
    "    # Compute the pairwise distance matrix\n",
    "    distances = pdist(context.detach().numpy(), 'euclidean')\n",
    "    dist_matrix = squareform(distances)\n",
    "\n",
    "    # Run DBSCAN on the distance matrix\n",
    "    clustering = DBSCAN(eps=eps, min_samples=2, metric='precomputed').fit(dist_matrix)\n",
    "\n",
    "    # Get the words corresponding to each cluster\n",
    "    clusters = {}\n",
    "    for i, label in enumerate(clustering.labels_):\n",
    "        if label != -1:  # Ignore noise (-1 label)\n",
    "            if label not in clusters:\n",
    "                clusters[label] = []\n",
    "            clusters[label].append(tokens[i])\n",
    "\n",
    "    return clusters\n",
    "\n",
    "# Compute the clusters for each context vector\n",
    "clusters = []\n",
    "for i, output in enumerate(context):\n",
    "    print(f\"Clusters for text {i}:\")\n",
    "    clusters.append(cluster_and_get_words(output, text[i]))\n",
    "    for label, words in clusters[-1].items():\n",
    "        print(f\"Cluster {label}: {', '.join(words)}\")"
   ]
  },
  {
   "cell_type": "code",
   "execution_count": 13,
   "metadata": {},
   "outputs": [
    {
     "name": "stdout",
     "output_type": "stream",
     "text": [
      "Tokens of the sub-collection: ['ב', '##א', '##ַ', '##גל', '##ייט', '##ונג', '[UNK]', 'א', '##ַ', '##ל', '##ע', 'ל', '##ע', '##בע', '##נס', 'אי', '##בע', '##נט', '##ן']\n",
      "Distance matrix: (19, 19)\n",
      "Distance matrix: [[0.         4.27456582 4.8605762  5.02274485 4.34894055 4.71110704\n",
      "  5.15987171 5.2068898  5.23541983 5.12007695 4.75773705 4.5319636\n",
      "  4.12077895 5.56884034 5.08031995 4.39629294 5.77880276 4.38382118\n",
      "  4.56717724]\n",
      " [4.27456582 0.         4.65176492 4.84243723 4.83546982 5.09593305\n",
      "  5.11230206 4.78448328 4.97624779 4.88117247 4.46383137 4.4243425\n",
      "  5.19246057 4.89799019 4.70726081 4.16154334 5.55374655 5.02334829\n",
      "  4.6253848 ]\n",
      " [4.8605762  4.65176492 0.         4.61365912 5.19538417 5.43393925\n",
      "  5.10883381 3.4550673  3.46618833 5.22519354 4.82287323 4.76391724\n",
      "  5.39143602 5.41970479 4.61142184 4.25725894 5.64408123 4.55947255\n",
      "  4.42248162]\n",
      " [5.02274485 4.84243723 4.61365912 0.         4.00085884 4.22788295\n",
      "  4.872272   4.4368978  4.80524166 4.09332552 5.12579434 3.92455224\n",
      "  5.05898201 5.12450766 5.13030398 4.05574972 4.59844172 4.67537896\n",
      "  3.17937728]\n",
      " [4.34894055 4.83546982 5.19538417 4.00085884 0.         3.38858059\n",
      "  4.88546039 4.65945833 5.52055335 4.41532519 4.72761513 4.78868853\n",
      "  5.15018068 5.13251644 5.62567098 4.50302908 4.83923213 4.86809097\n",
      "  3.74660469]\n",
      " [4.71110704 5.09593305 5.43393925 4.22788295 3.38858059 0.\n",
      "  3.94743908 4.80893074 5.66168953 4.62982425 5.41694305 4.55790179\n",
      "  5.08270243 5.37218837 5.74663723 5.0633964  5.40517452 5.43989727\n",
      "  4.29352931]\n",
      " [5.15987171 5.11230206 5.10883381 4.872272   4.88546039 3.94743908\n",
      "  0.         4.45539163 5.01664991 3.92945159 6.09738429 4.47710524\n",
      "  5.53185842 4.81950678 5.00857731 4.51289237 4.86133928 5.57859394\n",
      "  4.53084971]\n",
      " [5.2068898  4.78448328 3.4550673  4.4368978  4.65945833 4.80893074\n",
      "  4.45539163 0.         3.20331721 4.72476996 4.46491223 4.3087783\n",
      "  4.79590408 4.58801344 3.92254452 3.79483983 5.20927633 4.36818463\n",
      "  4.75051625]\n",
      " [5.23541983 4.97624779 3.46618833 4.80524166 5.52055335 5.66168953\n",
      "  5.01664991 3.20331721 0.         4.74883862 4.34475092 4.48226498\n",
      "  5.219762   5.19417547 3.18086299 3.94101796 5.41795135 4.81962987\n",
      "  4.7761306 ]\n",
      " [5.12007695 4.88117247 5.22519354 4.09332552 4.41532519 4.62982425\n",
      "  3.92945159 4.72476996 4.74883862 0.         4.87409446 3.60231664\n",
      "  4.7274784  4.48831909 4.82464727 4.00982415 3.82325428 4.90653548\n",
      "  3.35876733]\n",
      " [4.75773705 4.46383137 4.82287323 5.12579434 4.72761513 5.41694305\n",
      "  6.09738429 4.46491223 4.34475092 4.87409446 0.         4.55787539\n",
      "  3.790817   5.43317516 4.83776215 4.48346324 5.66736081 4.75184645\n",
      "  5.1164649 ]\n",
      " [4.5319636  4.4243425  4.76391724 3.92455224 4.78868853 4.55790179\n",
      "  4.47710524 4.3087783  4.48226498 3.60231664 4.55787539 0.\n",
      "  3.70032432 4.70079141 4.25040323 4.01006542 4.49218374 4.03095869\n",
      "  3.71532418]\n",
      " [4.12077895 5.19246057 5.39143602 5.05898201 5.15018068 5.08270243\n",
      "  5.53185842 4.79590408 5.219762   4.7274784  3.790817   3.70032432\n",
      "  0.         5.50267018 4.70466272 4.54847137 5.16521669 3.86272188\n",
      "  5.02400275]\n",
      " [5.56884034 4.89799019 5.41970479 5.12450766 5.13251644 5.37218837\n",
      "  4.81950678 4.58801344 5.19417547 4.48831909 5.43317516 4.70079141\n",
      "  5.50267018 0.         4.68800839 3.68177275 4.97984857 5.41010118\n",
      "  4.88812709]\n",
      " [5.08031995 4.70726081 4.61142184 5.13030398 5.62567098 5.74663723\n",
      "  5.00857731 3.92254452 3.18086299 4.82464727 4.83776215 4.25040323\n",
      "  4.70466272 4.68800839 0.         3.47875048 4.95933587 4.35837999\n",
      "  4.81363251]\n",
      " [4.39629294 4.16154334 4.25725894 4.05574972 4.50302908 5.0633964\n",
      "  4.51289237 3.79483983 3.94101796 4.00982415 4.48346324 4.01006542\n",
      "  4.54847137 3.68177275 3.47875048 0.         3.89166341 4.18910068\n",
      "  3.82156736]\n",
      " [5.77880276 5.55374655 5.64408123 4.59844172 4.83923213 5.40517452\n",
      "  4.86133928 5.20927633 5.41795135 3.82325428 5.66736081 4.49218374\n",
      "  5.16521669 4.97984857 4.95933587 3.89166341 0.         4.26878011\n",
      "  4.04778305]\n",
      " [4.38382118 5.02334829 4.55947255 4.67537896 4.86809097 5.43989727\n",
      "  5.57859394 4.36818463 4.81962987 4.90653548 4.75184645 4.03095869\n",
      "  3.86272188 5.41010118 4.35837999 4.18910068 4.26878011 0.\n",
      "  4.04310955]\n",
      " [4.56717724 4.6253848  4.42248162 3.17937728 3.74660469 4.29352931\n",
      "  4.53084971 4.75051625 4.7761306  3.35876733 5.1164649  3.71532418\n",
      "  5.02400275 4.88812709 4.81363251 3.82156736 4.04778305 4.04310955\n",
      "  0.        ]]\n"
     ]
    },
    {
     "data": {
      "image/png": "[encoded data removed]",
      "text/plain": [
       "<Figure size 640x480 with 1 Axes>"
      ]
     },
     "metadata": {},
     "output_type": "display_data"
    },
    {
     "data": {
      "text/plain": [
       "[(1, (3.9474390751666806, 4.5308497131915155)),\n",
       " (1, (4.344750922589118, 4.548471369391129)),\n",
       " (1, (4.3489405502697975, 4.503029081157116)),\n",
       " (1, (3.794839827151685, 3.9225445164999506)),\n",
       " (1, (4.274565821971547, 4.39629294075119)),\n",
       " (1, (3.89166340879206, 4.009824149365896)),\n",
       " (1, (4.455391631929653, 4.4771052352224565)),\n",
       " (1, (4.463831372994428, 4.483463237641998)),\n",
       " (0, (0.0, inf)),\n",
       " (0, (0.0, 4.161543336617508)),\n",
       " (0, (0.0, 4.12077894664938)),\n",
       " (0, (0.0, 3.929451587356447)),\n",
       " (0, (0.0, 3.862721875067711)),\n",
       " (0, (0.0, 3.8232542784220547)),\n",
       " (0, (0.0, 3.8215673626528797)),\n",
       " (0, (0.0, 3.7908170030075126)),\n",
       " (0, (0.0, 3.7466046862430358)),\n",
       " (0, (0.0, 3.7003243206213)),\n",
       " (0, (0.0, 3.681772753898907)),\n",
       " (0, (0.0, 3.602316638421863)),\n",
       " (0, (0.0, 3.4787504838680214)),\n",
       " (0, (0.0, 3.4550673036770285)),\n",
       " (0, (0.0, 3.3885805949783814)),\n",
       " (0, (0.0, 3.358767325082552)),\n",
       " (0, (0.0, 3.203317214102311)),\n",
       " (0, (0.0, 3.180862990882958)),\n",
       " (0, (0.0, 3.1793772755756193))]"
      ]
     },
     "execution_count": 13,
     "metadata": {},
     "output_type": "execute_result"
    }
   ],
   "source": [
    "from scipy.spatial import distance_matrix\n",
    "import gudhi as gd\n",
    "import numpy as np\n",
    "import matplotlib.pyplot as plt\n",
    "from transformers import BertTokenizer\n",
    "\n",
    "def compute_phrase_distances_and_homology(context_vectors, sentence, phrase):\n",
    "    # Initialize the tokenizer\n",
    "    tokenizer = BertTokenizer.from_pretrained('bert-base-multilingual-cased')\n",
    "\n",
    "    # Tokenize the sentence and the phrase\n",
    "    sentence_tokens = tokenizer.encode(sentence, add_special_tokens=False)\n",
    "    phrase_tokens = tokenizer.encode(phrase, add_special_tokens=False)\n",
    "\n",
    "    # Find the indices of the phrase tokens in the sentence\n",
    "    phrase_indices = []\n",
    "    phrase_length = len(phrase_tokens)\n",
    "    for i in range(len(sentence_tokens) - phrase_length + 1):\n",
    "        if sentence_tokens[i:i+phrase_length] == phrase_tokens:\n",
    "            phrase_indices.extend(range(i, i+phrase_length))\n",
    "            break\n",
    "\n",
    "    # Extract the context vectors for the phrase\n",
    "    phrase_context_vectors = context_vectors[0, phrase_indices]\n",
    "\n",
    "    # Detach the tensor and convert to numpy array\n",
    "    phrase_context_vectors_np = phrase_context_vectors.detach().numpy()\n",
    "\n",
    "    # Print the tokens of the sub-collection and their context vectors\n",
    "    print(f'Tokens of the sub-collection: {tokenizer.convert_ids_to_tokens(phrase_tokens)}')\n",
    "    # print(f'Context vectors of the sub-collection: {phrase_context_vectors_np}')\n",
    "\n",
    "    # Compute the pairwise Euclidean distances among the phrase context vectors\n",
    "    distances = distance_matrix(phrase_context_vectors_np, phrase_context_vectors_np)\n",
    "\n",
    "    # Print the distance matrix\n",
    "    print(f'Distance matrix: {distances.shape}')\n",
    "    print(f'Distance matrix: {distances}')\n",
    "\n",
    "    # Compute the persistent homology of the distance matrix\n",
    "    rips_complex = gd.RipsComplex(distance_matrix=distances, max_edge_length=np.max(distances))\n",
    "    simplex_tree = rips_complex.create_simplex_tree(max_dimension=2)\n",
    "    persistent_homology = simplex_tree.persistence(min_persistence=0.001)\n",
    "\n",
    "    # Plot the barcode diagram\n",
    "    gd.plot_persistence_barcode(persistence=persistent_homology)\n",
    "    plt.show()\n",
    "\n",
    "    return persistent_homology\n",
    "\n",
    "# Assuming that 'context_vectors' is the tensor of context vectors for your sentence,\n",
    "# and 'sentence' is your original sentence, you can use the function like this:\n",
    "compute_phrase_distances_and_homology(context[0], text[0], \"באַגלייטונג פֿאַר אַלע לעבענס איבענטן\")"
   ]
  },
  {
   "cell_type": "code",
   "execution_count": 14,
   "metadata": {},
   "outputs": [],
   "source": [
    "text_2 = [\"ייִדיש ליטעראַטור האָט אַ רייכע געשיכטע, פֿונעם מיטלאַלטער דורך די מאָדערנע צייטן. דער נשמה קלאַנג איז געפילט אין די ווערק פון מנהעם מענדל מאַניס, שאָלום עליכם, און י. ל. פּערעץ. זייַנע ווערטער האָבן געווינען די באַגלייטונג פֿאַר אַלע לעבענס איבענטן, פֿון די עמעסע מאַגילות צו די מאָדערנע ראָמאַנטישע נאָוועלן.\"]"
   ]
  },
  {
   "cell_type": "code",
   "execution_count": 16,
   "metadata": {},
   "outputs": [
    {
     "name": "stderr",
     "output_type": "stream",
     "text": [
      "Some weights of the model checkpoint at bert-base-multilingual-cased were not used when initializing BertModel: ['cls.seq_relationship.weight', 'cls.predictions.transform.dense.bias', 'cls.predictions.transform.dense.weight', 'cls.predictions.transform.LayerNorm.weight', 'cls.predictions.bias', 'cls.predictions.transform.LayerNorm.bias', 'cls.seq_relationship.bias']\n",
      "- This IS expected if you are initializing BertModel from the checkpoint of a model trained on another task or with another architecture (e.g. initializing a BertForSequenceClassification model from a BertForPreTraining model).\n",
      "- This IS NOT expected if you are initializing BertModel from the checkpoint of a model that you expect to be exactly identical (initializing a BertForSequenceClassification model from a BertForSequenceClassification model).\n"
     ]
    },
    {
     "name": "stdout",
     "output_type": "stream",
     "text": [
      "Tokens of the sub-collection: ['ב', '##א', '##ַ', '##גל', '##ייט', '##ונג', '[UNK]', 'א', '##ַ', '##ל', '##ע', 'ל', '##ע', '##בע', '##נס', 'אי', '##בע', '##נט', '##ן']\n",
      "Distance matrix: (19, 19)\n",
      "Distance matrix: [[0.         4.57254268 4.85807584 5.64893846 5.36198953 5.06363856\n",
      "  4.17836306 3.36111374 3.6237041  4.73966668 5.85566408 4.4860037\n",
      "  3.73741901 4.5121634  5.19875031 4.70542355 3.13451017 4.61597902\n",
      "  4.95040268]\n",
      " [4.57254268 0.         4.75930815 5.23099524 5.32517852 5.69689124\n",
      "  5.69876959 4.81122795 4.20866693 4.78610782 5.41894062 5.12057053\n",
      "  4.13482744 4.98454145 4.93723813 5.51192163 5.12283537 4.56611704\n",
      "  5.45788176]\n",
      " [4.85807584 4.75930815 0.         3.50123886 4.70701068 3.8501762\n",
      "  4.58546055 5.03429371 4.51949978 3.67699503 5.3576799  4.29305212\n",
      "  4.34602194 3.09971575 4.25147634 4.4973554  4.31957317 4.25424966\n",
      "  4.28453577]\n",
      " [5.64893846 5.23099524 3.50123886 0.         3.92147482 3.99555119\n",
      "  4.84937421 5.78261173 5.08674746 3.37009842 4.58355083 4.60553837\n",
      "  4.59750166 4.50243652 3.34662473 4.71465895 5.48143879 4.0867163\n",
      "  4.23078046]\n",
      " [5.36198953 5.32517852 4.70701068 3.92147482 0.         4.72078803\n",
      "  4.90520773 5.10697652 4.93843701 4.67955062 3.54690368 4.90288652\n",
      "  4.60825624 5.30624966 4.34197154 4.9283413  5.49442657 4.78275319\n",
      "  4.36295536]\n",
      " [5.06363856 5.69689124 3.8501762  3.99555119 4.72078803 0.\n",
      "  3.47683344 4.65530122 5.05871828 4.46485475 5.35607969 4.24841084\n",
      "  4.5820145  4.32225542 4.73437788 4.14592139 4.72225585 4.98346634\n",
      "  3.8661566 ]\n",
      " [4.17836306 5.69876959 4.58546055 4.84937421 4.90520773 3.47683344\n",
      "  0.         4.00313314 4.54616908 4.66397954 5.51871766 4.01028465\n",
      "  4.57013719 4.74168778 5.07324237 3.76183873 4.67424764 4.90464338\n",
      "  3.57761583]\n",
      " [3.36111374 4.81122795 5.03429371 5.78261173 5.10697652 4.65530122\n",
      "  4.00313314 0.         3.84080324 4.81609275 5.70653707 4.67690196\n",
      "  4.08521082 5.03739214 5.58398464 5.0012902  3.649693   4.91816142\n",
      "  4.93795806]\n",
      " [3.6237041  4.20866693 4.51949978 5.08674746 4.93843701 5.05871828\n",
      "  4.54616908 3.84080324 0.         3.7898915  4.84499851 4.3190353\n",
      "  3.79097361 4.20060159 4.67410682 4.88939073 4.07975646 3.80205937\n",
      "  4.9163744 ]\n",
      " [4.73966668 4.78610782 3.67699503 3.37009842 4.67955062 4.46485475\n",
      "  4.66397954 4.81609275 3.7898915  0.         4.29257651 3.44529403\n",
      "  3.47985674 3.42530054 3.31310397 4.41387021 4.50292737 3.224426\n",
      "  4.86208123]\n",
      " [5.85566408 5.41894062 5.3576799  4.58355083 3.54690368 5.35607969\n",
      "  5.51871766 5.70653707 4.84499851 4.29257651 0.         4.31135683\n",
      "  4.55377461 5.47133896 4.32338821 4.90057297 5.91103129 5.33245381\n",
      "  4.90027199]\n",
      " [4.4860037  5.12057053 4.29305212 4.60553837 4.90288652 4.24841084\n",
      "  4.01028465 4.67690196 4.3190353  3.44529403 4.31135683 0.\n",
      "  3.35681379 3.77213887 4.15400399 3.41073299 4.33671467 4.57969424\n",
      "  4.29011187]\n",
      " [3.73741901 4.13482744 4.34602194 4.59750166 4.60825624 4.5820145\n",
      "  4.57013719 4.08521082 3.79097361 3.47985674 4.55377461 3.35681379\n",
      "  0.         3.59925245 3.57559741 3.86886909 3.68445576 4.19068851\n",
      "  4.56824482]\n",
      " [4.5121634  4.98454145 3.09971575 4.50243652 5.30624966 4.32225542\n",
      "  4.74168778 5.03739214 4.20060159 3.42530054 5.47133896 3.77213887\n",
      "  3.59925245 0.         3.82897844 4.1216511  3.80923721 3.91701711\n",
      "  4.45706579]\n",
      " [5.19875031 4.93723813 4.25147634 3.34662473 4.34197154 4.73437788\n",
      "  5.07324237 5.58398464 4.67410682 3.31310397 4.32338821 4.15400399\n",
      "  3.57559741 3.82897844 0.         3.6849073  4.79431849 3.32493089\n",
      "  3.9360099 ]\n",
      " [4.70542355 5.51192163 4.4973554  4.71465895 4.9283413  4.14592139\n",
      "  3.76183873 5.0012902  4.88939073 4.41387021 4.90057297 3.41073299\n",
      "  3.86886909 4.1216511  3.6849073  0.         4.37208963 4.36178183\n",
      "  2.65469619]\n",
      " [3.13451017 5.12283537 4.31957317 5.48143879 5.49442657 4.72225585\n",
      "  4.67424764 3.649693   4.07975646 4.50292737 5.91103129 4.33671467\n",
      "  3.68445576 3.80923721 4.79431849 4.37208963 0.         4.09106444\n",
      "  4.48577079]\n",
      " [4.61597902 4.56611704 4.25424966 4.0867163  4.78275319 4.98346634\n",
      "  4.90464338 4.91816142 3.80205937 3.224426   5.33245381 4.57969424\n",
      "  4.19068851 3.91701711 3.32493089 4.36178183 4.09106444 0.\n",
      "  4.36722766]\n",
      " [4.95040268 5.45788176 4.28453577 4.23078046 4.36295536 3.8661566\n",
      "  3.57761583 4.93795806 4.9163744  4.86208123 4.90027199 4.29011187\n",
      "  4.56824482 4.45706579 3.9360099  2.65469619 4.48577079 4.36722766\n",
      "  0.        ]]\n"
     ]
    },
    {
     "data": {
      "image/png": "[encoded data removed]",
      "text/plain": [
       "<Figure size 640x480 with 1 Axes>"
      ]
     },
     "metadata": {},
     "output_type": "display_data"
    },
    {
     "data": {
      "text/plain": [
       "[(1, (4.0031331395816565, 4.486003696414056)),\n",
       " (1, (3.850176203738563, 4.2307804602510695)),\n",
       " (1, (3.6849073027435004, 3.8688690913808665)),\n",
       " (1, (3.5012388570771646, 3.6769950285850723)),\n",
       " (1, (4.292576512940903, 4.341971539647064)),\n",
       " (1, (3.7898914969574995, 3.790973606533108)),\n",
       " (0, (0.0, inf)),\n",
       " (0, (0.0, 4.134827437313426)),\n",
       " (0, (0.0, 3.9214748206488523)),\n",
       " (0, (0.0, 3.6844557603541186)),\n",
       " (0, (0.0, 3.623704096531528)),\n",
       " (0, (0.0, 3.5776158334088954)),\n",
       " (0, (0.0, 3.5469036778984364)),\n",
       " (0, (0.0, 3.476833442288839)),\n",
       " (0, (0.0, 3.4452940257753193)),\n",
       " (0, (0.0, 3.4253005429754264)),\n",
       " (0, (0.0, 3.410732987623055)),\n",
       " (0, (0.0, 3.361113737719599)),\n",
       " (0, (0.0, 3.3568137882670284)),\n",
       " (0, (0.0, 3.3466247297618885)),\n",
       " (0, (0.0, 3.313103966736327)),\n",
       " (0, (0.0, 3.2244260018101607)),\n",
       " (0, (0.0, 3.1345101663088446)),\n",
       " (0, (0.0, 3.0997157518500456)),\n",
       " (0, (0.0, 2.6546961862114182))]"
      ]
     },
     "execution_count": 16,
     "metadata": {},
     "output_type": "execute_result"
    }
   ],
   "source": [
    "context_2 = [compute_output(t, layer, head) for t in text_2]\n",
    "compute_phrase_distances_and_homology(context_2[0], text_2[0], \"באַגלייטונג פֿאַר אַלע לעבענס איבענטן\")"
   ]
  },
  {
   "cell_type": "code",
   "execution_count": 18,
   "metadata": {},
   "outputs": [
    {
     "name": "stdout",
     "output_type": "stream",
     "text": [
      "Tokens of the sub-collection: ['ב', '##א', '##ַ', '##גל', '##ייט', '##ונג', '[UNK]', 'א', '##ַ', '##ל', '##ע', 'ל', '##ע', '##בע', '##נס', 'אי', '##בע', '##נט', '##ן']\n",
      "Distance matrix: (19, 19)\n",
      "Distance matrix: [[0.         4.27456582 4.8605762  5.02274485 4.34894055 4.71110704\n",
      "  5.15987171 5.2068898  5.23541983 5.12007695 4.75773705 4.5319636\n",
      "  4.12077895 5.56884034 5.08031995 4.39629294 5.77880276 4.38382118\n",
      "  4.56717724]\n",
      " [4.27456582 0.         4.65176492 4.84243723 4.83546982 5.09593305\n",
      "  5.11230206 4.78448328 4.97624779 4.88117247 4.46383137 4.4243425\n",
      "  5.19246057 4.89799019 4.70726081 4.16154334 5.55374655 5.02334829\n",
      "  4.6253848 ]\n",
      " [4.8605762  4.65176492 0.         4.61365912 5.19538417 5.43393925\n",
      "  5.10883381 3.4550673  3.46618833 5.22519354 4.82287323 4.76391724\n",
      "  5.39143602 5.41970479 4.61142184 4.25725894 5.64408123 4.55947255\n",
      "  4.42248162]\n",
      " [5.02274485 4.84243723 4.61365912 0.         4.00085884 4.22788295\n",
      "  4.872272   4.4368978  4.80524166 4.09332552 5.12579434 3.92455224\n",
      "  5.05898201 5.12450766 5.13030398 4.05574972 4.59844172 4.67537896\n",
      "  3.17937728]\n",
      " [4.34894055 4.83546982 5.19538417 4.00085884 0.         3.38858059\n",
      "  4.88546039 4.65945833 5.52055335 4.41532519 4.72761513 4.78868853\n",
      "  5.15018068 5.13251644 5.62567098 4.50302908 4.83923213 4.86809097\n",
      "  3.74660469]\n",
      " [4.71110704 5.09593305 5.43393925 4.22788295 3.38858059 0.\n",
      "  3.94743908 4.80893074 5.66168953 4.62982425 5.41694305 4.55790179\n",
      "  5.08270243 5.37218837 5.74663723 5.0633964  5.40517452 5.43989727\n",
      "  4.29352931]\n",
      " [5.15987171 5.11230206 5.10883381 4.872272   4.88546039 3.94743908\n",
      "  0.         4.45539163 5.01664991 3.92945159 6.09738429 4.47710524\n",
      "  5.53185842 4.81950678 5.00857731 4.51289237 4.86133928 5.57859394\n",
      "  4.53084971]\n",
      " [5.2068898  4.78448328 3.4550673  4.4368978  4.65945833 4.80893074\n",
      "  4.45539163 0.         3.20331721 4.72476996 4.46491223 4.3087783\n",
      "  4.79590408 4.58801344 3.92254452 3.79483983 5.20927633 4.36818463\n",
      "  4.75051625]\n",
      " [5.23541983 4.97624779 3.46618833 4.80524166 5.52055335 5.66168953\n",
      "  5.01664991 3.20331721 0.         4.74883862 4.34475092 4.48226498\n",
      "  5.219762   5.19417547 3.18086299 3.94101796 5.41795135 4.81962987\n",
      "  4.7761306 ]\n",
      " [5.12007695 4.88117247 5.22519354 4.09332552 4.41532519 4.62982425\n",
      "  3.92945159 4.72476996 4.74883862 0.         4.87409446 3.60231664\n",
      "  4.7274784  4.48831909 4.82464727 4.00982415 3.82325428 4.90653548\n",
      "  3.35876733]\n",
      " [4.75773705 4.46383137 4.82287323 5.12579434 4.72761513 5.41694305\n",
      "  6.09738429 4.46491223 4.34475092 4.87409446 0.         4.55787539\n",
      "  3.790817   5.43317516 4.83776215 4.48346324 5.66736081 4.75184645\n",
      "  5.1164649 ]\n",
      " [4.5319636  4.4243425  4.76391724 3.92455224 4.78868853 4.55790179\n",
      "  4.47710524 4.3087783  4.48226498 3.60231664 4.55787539 0.\n",
      "  3.70032432 4.70079141 4.25040323 4.01006542 4.49218374 4.03095869\n",
      "  3.71532418]\n",
      " [4.12077895 5.19246057 5.39143602 5.05898201 5.15018068 5.08270243\n",
      "  5.53185842 4.79590408 5.219762   4.7274784  3.790817   3.70032432\n",
      "  0.         5.50267018 4.70466272 4.54847137 5.16521669 3.86272188\n",
      "  5.02400275]\n",
      " [5.56884034 4.89799019 5.41970479 5.12450766 5.13251644 5.37218837\n",
      "  4.81950678 4.58801344 5.19417547 4.48831909 5.43317516 4.70079141\n",
      "  5.50267018 0.         4.68800839 3.68177275 4.97984857 5.41010118\n",
      "  4.88812709]\n",
      " [5.08031995 4.70726081 4.61142184 5.13030398 5.62567098 5.74663723\n",
      "  5.00857731 3.92254452 3.18086299 4.82464727 4.83776215 4.25040323\n",
      "  4.70466272 4.68800839 0.         3.47875048 4.95933587 4.35837999\n",
      "  4.81363251]\n",
      " [4.39629294 4.16154334 4.25725894 4.05574972 4.50302908 5.0633964\n",
      "  4.51289237 3.79483983 3.94101796 4.00982415 4.48346324 4.01006542\n",
      "  4.54847137 3.68177275 3.47875048 0.         3.89166341 4.18910068\n",
      "  3.82156736]\n",
      " [5.77880276 5.55374655 5.64408123 4.59844172 4.83923213 5.40517452\n",
      "  4.86133928 5.20927633 5.41795135 3.82325428 5.66736081 4.49218374\n",
      "  5.16521669 4.97984857 4.95933587 3.89166341 0.         4.26878011\n",
      "  4.04778305]\n",
      " [4.38382118 5.02334829 4.55947255 4.67537896 4.86809097 5.43989727\n",
      "  5.57859394 4.36818463 4.81962987 4.90653548 4.75184645 4.03095869\n",
      "  3.86272188 5.41010118 4.35837999 4.18910068 4.26878011 0.\n",
      "  4.04310955]\n",
      " [4.56717724 4.6253848  4.42248162 3.17937728 3.74660469 4.29352931\n",
      "  4.53084971 4.75051625 4.7761306  3.35876733 5.1164649  3.71532418\n",
      "  5.02400275 4.88812709 4.81363251 3.82156736 4.04778305 4.04310955\n",
      "  0.        ]]\n"
     ]
    },
    {
     "data": {
      "image/png": "[encoded data removed]",
      "text/plain": [
       "<Figure size 640x480 with 1 Axes>"
      ]
     },
     "metadata": {},
     "output_type": "display_data"
    },
    {
     "name": "stdout",
     "output_type": "stream",
     "text": [
      "Tokens of the sub-collection: ['ב', '##א', '##ַ', '##גל', '##ייט', '##ונג', '[UNK]', 'א', '##ַ', '##ל', '##ע', 'ל', '##ע', '##בע', '##נס', 'אי', '##בע', '##נט', '##ן']\n",
      "Distance matrix: (19, 19)\n",
      "Distance matrix: [[0.         4.57254268 4.85807584 5.64893846 5.36198953 5.06363856\n",
      "  4.17836306 3.36111374 3.6237041  4.73966668 5.85566408 4.4860037\n",
      "  3.73741901 4.5121634  5.19875031 4.70542355 3.13451017 4.61597902\n",
      "  4.95040268]\n",
      " [4.57254268 0.         4.75930815 5.23099524 5.32517852 5.69689124\n",
      "  5.69876959 4.81122795 4.20866693 4.78610782 5.41894062 5.12057053\n",
      "  4.13482744 4.98454145 4.93723813 5.51192163 5.12283537 4.56611704\n",
      "  5.45788176]\n",
      " [4.85807584 4.75930815 0.         3.50123886 4.70701068 3.8501762\n",
      "  4.58546055 5.03429371 4.51949978 3.67699503 5.3576799  4.29305212\n",
      "  4.34602194 3.09971575 4.25147634 4.4973554  4.31957317 4.25424966\n",
      "  4.28453577]\n",
      " [5.64893846 5.23099524 3.50123886 0.         3.92147482 3.99555119\n",
      "  4.84937421 5.78261173 5.08674746 3.37009842 4.58355083 4.60553837\n",
      "  4.59750166 4.50243652 3.34662473 4.71465895 5.48143879 4.0867163\n",
      "  4.23078046]\n",
      " [5.36198953 5.32517852 4.70701068 3.92147482 0.         4.72078803\n",
      "  4.90520773 5.10697652 4.93843701 4.67955062 3.54690368 4.90288652\n",
      "  4.60825624 5.30624966 4.34197154 4.9283413  5.49442657 4.78275319\n",
      "  4.36295536]\n",
      " [5.06363856 5.69689124 3.8501762  3.99555119 4.72078803 0.\n",
      "  3.47683344 4.65530122 5.05871828 4.46485475 5.35607969 4.24841084\n",
      "  4.5820145  4.32225542 4.73437788 4.14592139 4.72225585 4.98346634\n",
      "  3.8661566 ]\n",
      " [4.17836306 5.69876959 4.58546055 4.84937421 4.90520773 3.47683344\n",
      "  0.         4.00313314 4.54616908 4.66397954 5.51871766 4.01028465\n",
      "  4.57013719 4.74168778 5.07324237 3.76183873 4.67424764 4.90464338\n",
      "  3.57761583]\n",
      " [3.36111374 4.81122795 5.03429371 5.78261173 5.10697652 4.65530122\n",
      "  4.00313314 0.         3.84080324 4.81609275 5.70653707 4.67690196\n",
      "  4.08521082 5.03739214 5.58398464 5.0012902  3.649693   4.91816142\n",
      "  4.93795806]\n",
      " [3.6237041  4.20866693 4.51949978 5.08674746 4.93843701 5.05871828\n",
      "  4.54616908 3.84080324 0.         3.7898915  4.84499851 4.3190353\n",
      "  3.79097361 4.20060159 4.67410682 4.88939073 4.07975646 3.80205937\n",
      "  4.9163744 ]\n",
      " [4.73966668 4.78610782 3.67699503 3.37009842 4.67955062 4.46485475\n",
      "  4.66397954 4.81609275 3.7898915  0.         4.29257651 3.44529403\n",
      "  3.47985674 3.42530054 3.31310397 4.41387021 4.50292737 3.224426\n",
      "  4.86208123]\n",
      " [5.85566408 5.41894062 5.3576799  4.58355083 3.54690368 5.35607969\n",
      "  5.51871766 5.70653707 4.84499851 4.29257651 0.         4.31135683\n",
      "  4.55377461 5.47133896 4.32338821 4.90057297 5.91103129 5.33245381\n",
      "  4.90027199]\n",
      " [4.4860037  5.12057053 4.29305212 4.60553837 4.90288652 4.24841084\n",
      "  4.01028465 4.67690196 4.3190353  3.44529403 4.31135683 0.\n",
      "  3.35681379 3.77213887 4.15400399 3.41073299 4.33671467 4.57969424\n",
      "  4.29011187]\n",
      " [3.73741901 4.13482744 4.34602194 4.59750166 4.60825624 4.5820145\n",
      "  4.57013719 4.08521082 3.79097361 3.47985674 4.55377461 3.35681379\n",
      "  0.         3.59925245 3.57559741 3.86886909 3.68445576 4.19068851\n",
      "  4.56824482]\n",
      " [4.5121634  4.98454145 3.09971575 4.50243652 5.30624966 4.32225542\n",
      "  4.74168778 5.03739214 4.20060159 3.42530054 5.47133896 3.77213887\n",
      "  3.59925245 0.         3.82897844 4.1216511  3.80923721 3.91701711\n",
      "  4.45706579]\n",
      " [5.19875031 4.93723813 4.25147634 3.34662473 4.34197154 4.73437788\n",
      "  5.07324237 5.58398464 4.67410682 3.31310397 4.32338821 4.15400399\n",
      "  3.57559741 3.82897844 0.         3.6849073  4.79431849 3.32493089\n",
      "  3.9360099 ]\n",
      " [4.70542355 5.51192163 4.4973554  4.71465895 4.9283413  4.14592139\n",
      "  3.76183873 5.0012902  4.88939073 4.41387021 4.90057297 3.41073299\n",
      "  3.86886909 4.1216511  3.6849073  0.         4.37208963 4.36178183\n",
      "  2.65469619]\n",
      " [3.13451017 5.12283537 4.31957317 5.48143879 5.49442657 4.72225585\n",
      "  4.67424764 3.649693   4.07975646 4.50292737 5.91103129 4.33671467\n",
      "  3.68445576 3.80923721 4.79431849 4.37208963 0.         4.09106444\n",
      "  4.48577079]\n",
      " [4.61597902 4.56611704 4.25424966 4.0867163  4.78275319 4.98346634\n",
      "  4.90464338 4.91816142 3.80205937 3.224426   5.33245381 4.57969424\n",
      "  4.19068851 3.91701711 3.32493089 4.36178183 4.09106444 0.\n",
      "  4.36722766]\n",
      " [4.95040268 5.45788176 4.28453577 4.23078046 4.36295536 3.8661566\n",
      "  3.57761583 4.93795806 4.9163744  4.86208123 4.90027199 4.29011187\n",
      "  4.56824482 4.45706579 3.9360099  2.65469619 4.48577079 4.36722766\n",
      "  0.        ]]\n"
     ]
    },
    {
     "data": {
      "image/png": "[encoded data removed]",
      "text/plain": [
       "<Figure size 640x480 with 1 Axes>"
      ]
     },
     "metadata": {},
     "output_type": "display_data"
    },
    {
     "name": "stdout",
     "output_type": "stream",
     "text": [
      "Bottleneck distance: 0.5246810893642011\n",
      "Wasserstein distance: = 4.63\n"
     ]
    }
   ],
   "source": [
    "# from gudhi.wasserstein import wasserstein_distance \n",
    "# Could also be: \n",
    "from gudhi.hera import wasserstein_distance\n",
    "import numpy as np\n",
    "\n",
    "# Compute the persistent homology\n",
    "persistent_homology_1 = compute_phrase_distances_and_homology(context[0], text[0], \"באַגלייטונג פֿאַר אַלע לעבענס איבענטן\")\n",
    "persistent_homology_2 = compute_phrase_distances_and_homology(context_2[0], text_2[0], \"באַגלייטונג פֿאַר אַלע לעבענס איבענטן\")\n",
    "\n",
    "# Convert the persistent homology data to a numpy array\n",
    "persistent_homology_np_1 = np.array([[pt[1][0], pt[1][1]] for pt in persistent_homology_1 if pt[1][1] != float('inf')])\n",
    "persistent_homology_np_2 = np.array([[pt[1][0], pt[1][1]] for pt in persistent_homology_2 if pt[1][1] != float('inf')])\n",
    "\n",
    "# Compute and print the bottleneck distance\n",
    "bottleneck_dist = gd.bottleneck_distance(persistent_homology_np_1, persistent_homology_np_2)\n",
    "print(f\"Bottleneck distance: {bottleneck_dist}\")\n",
    "\n",
    "# Compute and print the Wasserstein distance\n",
    "print(f\"Wasserstein distance: = {wasserstein_distance(persistent_homology_np_1, persistent_homology_np_2, order=1., internal_p=2.):.2f}\")"
   ]
  },
  {
   "cell_type": "code",
   "execution_count": 24,
   "metadata": {},
   "outputs": [],
   "source": [
    "text_3 = [\"דער ייִדישער טעאַטער האָט אַ רייכע געשיכטע, פון די ערשטע וואַנדערנדיקע טרופּעס אויף די גאַסן פֿון מיטל אייראָפע, ביז צו די בראָדוויי שאָוז פון ניו יאָרק. זייַנע פֿאַרבינדונג פֿאַר אַ חלום האָט געווינען די לייטמאָטיװ פֿאַר פֿילע ייִדישע שטיקען, מיט די וויטגעהענדיקע קאַמעדיען און דראַמען וואָס האָבן געווינען די הערצן פֿון די פּובליקום.\"]\n",
    "\n",
    "text_4 = [\"פֿאַמיליע געטראַפֿענישן זענען אַ וויכטיקער טייל פון טראַדיציאָנעלע ייִדישע קולטור. די פֿאַרבינדונג פֿאַר אַ חלום איז אַ געמיינזאַמע אויסדרוק, וואָס באַזייכנט די וויכטיקייט פון שאַרען די הערצן פֿון די פּובליקום, אַזוי ווי די שבת מאַלזעטן אָדער די יאָמער פֿאַרברענגען.\"]"
   ]
  },
  {
   "cell_type": "code",
   "execution_count": 25,
   "metadata": {},
   "outputs": [
    {
     "name": "stderr",
     "output_type": "stream",
     "text": [
      "Some weights of the model checkpoint at bert-base-multilingual-cased were not used when initializing BertModel: ['cls.seq_relationship.weight', 'cls.predictions.transform.dense.bias', 'cls.predictions.transform.dense.weight', 'cls.predictions.transform.LayerNorm.weight', 'cls.predictions.bias', 'cls.predictions.transform.LayerNorm.bias', 'cls.seq_relationship.bias']\n",
      "- This IS expected if you are initializing BertModel from the checkpoint of a model trained on another task or with another architecture (e.g. initializing a BertForSequenceClassification model from a BertForPreTraining model).\n",
      "- This IS NOT expected if you are initializing BertModel from the checkpoint of a model that you expect to be exactly identical (initializing a BertForSequenceClassification model from a BertForSequenceClassification model).\n",
      "Some weights of the model checkpoint at bert-base-multilingual-cased were not used when initializing BertModel: ['cls.seq_relationship.weight', 'cls.predictions.transform.dense.bias', 'cls.predictions.transform.dense.weight', 'cls.predictions.transform.LayerNorm.weight', 'cls.predictions.bias', 'cls.predictions.transform.LayerNorm.bias', 'cls.seq_relationship.bias']\n",
      "- This IS expected if you are initializing BertModel from the checkpoint of a model trained on another task or with another architecture (e.g. initializing a BertForSequenceClassification model from a BertForPreTraining model).\n",
      "- This IS NOT expected if you are initializing BertModel from the checkpoint of a model that you expect to be exactly identical (initializing a BertForSequenceClassification model from a BertForSequenceClassification model).\n"
     ]
    }
   ],
   "source": [
    "context_3 = [compute_output(t, layer, head) for t in text_3]\n",
    "\n",
    "context_4 = [compute_output(t, layer, head) for t in text_4]"
   ]
  },
  {
   "cell_type": "code",
   "execution_count": 26,
   "metadata": {},
   "outputs": [
    {
     "name": "stdout",
     "output_type": "stream",
     "text": [
      "Tokens of the sub-collection: ['[UNK]', '[UNK]', 'א', '##ַ', 'ח', '##לום']\n",
      "Distance matrix: (6, 6)\n",
      "Distance matrix: [[0.         3.85028166 4.90421696 4.81127062 4.98888363 5.3720175 ]\n",
      " [3.85028166 0.         3.89320591 3.8618817  4.15852831 4.88099584]\n",
      " [4.90421696 3.89320591 0.         1.42046681 4.28277197 5.14230569]\n",
      " [4.81127062 3.8618817  1.42046681 0.         4.04795249 4.57041689]\n",
      " [4.98888363 4.15852831 4.28277197 4.04795249 0.         5.08579338]\n",
      " [5.3720175  4.88099584 5.14230569 4.57041689 5.08579338 0.        ]]\n"
     ]
    },
    {
     "data": {
      "image/png": "[encoded data removed]",
      "text/plain": [
       "<Figure size 640x480 with 1 Axes>"
      ]
     },
     "metadata": {},
     "output_type": "display_data"
    },
    {
     "name": "stdout",
     "output_type": "stream",
     "text": [
      "Tokens of the sub-collection: ['[UNK]', '[UNK]', 'א', '##ַ', 'ח', '##לום']\n",
      "Distance matrix: (6, 6)\n",
      "Distance matrix: [[0.         4.77520175 4.05151797 4.05375705 5.23916821 4.63295327]\n",
      " [4.77520175 0.         3.86890889 4.07904248 5.1808294  4.87253822]\n",
      " [4.05151797 3.86890889 0.         0.96549876 4.04171879 4.37636607]\n",
      " [4.05375705 4.07904248 0.96549876 0.         3.8726732  4.22990661]\n",
      " [5.23916821 5.1808294  4.04171879 3.8726732  0.         5.4644434 ]\n",
      " [4.63295327 4.87253822 4.37636607 4.22990661 5.4644434  0.        ]]\n"
     ]
    },
    {
     "data": {
      "image/png": "[encoded data removed]",
      "text/plain": [
       "<Figure size 640x480 with 1 Axes>"
      ]
     },
     "metadata": {},
     "output_type": "display_data"
    },
    {
     "name": "stdout",
     "output_type": "stream",
     "text": [
      "Bottleneck distance: 0.45496805142792085\n",
      "Wasserstein distance: = 0.83\n"
     ]
    }
   ],
   "source": [
    "# Compute the persistent homology\n",
    "persistent_homology_1 = compute_phrase_distances_and_homology(context_3[0], text_3[0], \"פֿאַרבינדונג פֿאַר אַ חלום\")\n",
    "persistent_homology_2 = compute_phrase_distances_and_homology(context_4[0], text_4[0], \"פֿאַרבינדונג פֿאַר אַ חלום\")\n",
    "\n",
    "# Convert the persistent homology data to a numpy array\n",
    "persistent_homology_np_1 = np.array([[pt[1][0], pt[1][1]] for pt in persistent_homology_1 if pt[1][1] != float('inf')])\n",
    "persistent_homology_np_2 = np.array([[pt[1][0], pt[1][1]] for pt in persistent_homology_2 if pt[1][1] != float('inf')])\n",
    "\n",
    "# Compute and print the bottleneck distance\n",
    "bottleneck_dist = gd.bottleneck_distance(persistent_homology_np_1, persistent_homology_np_2)\n",
    "print(f\"Bottleneck distance: {bottleneck_dist}\")\n",
    "\n",
    "# Compute and print the Wasserstein distance\n",
    "print(f\"Wasserstein distance: = {wasserstein_distance(persistent_homology_np_1, persistent_homology_np_2, order=1., internal_p=2.):.2f}\")"
   ]
  },
  {
   "cell_type": "code",
   "execution_count": 27,
   "metadata": {},
   "outputs": [
    {
     "name": "stdout",
     "output_type": "stream",
     "text": [
      "Tokens of the sub-collection: ['די', 'ה', '##ער', '##צ', '##ן', '[UNK]', 'די', 'פ', '##ּ', '##ובל', '##יקו', '##ם']\n",
      "Distance matrix: (12, 12)\n",
      "Distance matrix: [[0.         4.34292205 5.23309844 4.91971845 4.71055614 4.29214246\n",
      "  5.10440824 4.77662307 5.81536231 5.66712536 6.1728442  4.79279542]\n",
      " [4.34292205 0.         4.28772389 4.390319   4.36468642 4.54500321\n",
      "  2.32302654 3.41524557 4.62983573 4.85148752 5.65654152 4.70012846]\n",
      " [5.23309844 4.28772389 0.         4.28651216 4.97459712 5.83364157\n",
      "  5.26842504 4.10475985 2.62354025 4.9911959  5.76126421 5.66318754]\n",
      " [4.91971845 4.390319   4.28651216 0.         4.4549403  5.27909068\n",
      "  4.67393606 4.33783007 4.28991411 4.63787538 5.22079247 5.04813308]\n",
      " [4.71055614 4.36468642 4.97459712 4.4549403  0.         4.44305133\n",
      "  4.16340265 4.31652667 4.64302365 3.86506447 4.63389275 4.09603956]\n",
      " [4.29214246 4.54500321 5.83364157 5.27909068 4.44305133 0.\n",
      "  4.21583688 4.48962529 5.87028928 5.07622671 5.49719866 4.42120701]\n",
      " [5.10440824 2.32302654 5.26842504 4.67393606 4.16340265 4.21583688\n",
      "  0.         3.51888607 4.99145733 4.75321348 5.55580903 4.71853172]\n",
      " [4.77662307 3.41524557 4.10475985 4.33783007 4.31652667 4.48962529\n",
      "  3.51888607 0.         3.80941768 4.08520911 5.15497374 4.52986162]\n",
      " [5.81536231 4.62983573 2.62354025 4.28991411 4.64302365 5.87028928\n",
      "  4.99145733 3.80941768 0.         3.82386066 4.79256472 4.93077121]\n",
      " [5.66712536 4.85148752 4.9911959  4.63787538 3.86506447 5.07622671\n",
      "  4.75321348 4.08520911 3.82386066 0.         3.55088468 4.27467861]\n",
      " [6.1728442  5.65654152 5.76126421 5.22079247 4.63389275 5.49719866\n",
      "  5.55580903 5.15497374 4.79256472 3.55088468 0.         4.94641148]\n",
      " [4.79279542 4.70012846 5.66318754 5.04813308 4.09603956 4.42120701\n",
      "  4.71853172 4.52986162 4.93077121 4.27467861 4.94641148 0.        ]]\n"
     ]
    },
    {
     "data": {
      "image/png": "[encoded data removed]",
      "text/plain": [
       "<Figure size 640x480 with 1 Axes>"
      ]
     },
     "metadata": {},
     "output_type": "display_data"
    },
    {
     "name": "stdout",
     "output_type": "stream",
     "text": [
      "Tokens of the sub-collection: ['די', 'ה', '##ער', '##צ', '##ן', '[UNK]', 'די', 'פ', '##ּ', '##ובל', '##יקו', '##ם']\n",
      "Distance matrix: (12, 12)\n",
      "Distance matrix: [[0.         3.41892903 4.73060456 4.39483525 3.80041943 3.64705454\n",
      "  4.09075828 4.48581135 5.2396452  4.78257621 5.29514694 3.32500198]\n",
      " [3.41892903 0.         3.96207962 3.94461908 4.50948394 4.17014799\n",
      "  2.2112913  3.50799015 4.4616004  4.70748046 5.85388135 4.63052118]\n",
      " [4.73060456 3.96207962 0.         4.72253107 4.94524561 5.18486101\n",
      "  4.79351105 3.83247273 2.42907952 4.80522257 6.05706001 5.6496735 ]\n",
      " [4.39483525 3.94461908 4.72253107 0.         4.19365742 4.58923324\n",
      "  4.17895052 4.19137543 4.97485048 4.41600269 5.14072729 4.78670561]\n",
      " [3.80041943 4.50948394 4.94524561 4.19365742 0.         4.28317314\n",
      "  4.31641779 4.67140117 4.99952189 4.09987212 4.80537268 4.1109966 ]\n",
      " [3.64705454 4.17014799 5.18486101 4.58923324 4.28317314 0.\n",
      "  3.96904311 4.61022629 5.60240825 5.06420149 5.6575675  4.17634325]\n",
      " [4.09075828 2.2112913  4.79351105 4.17895052 4.31641779 3.96904311\n",
      "  0.         3.56875968 4.84727934 4.92605004 5.88480574 4.71578315]\n",
      " [4.48581135 3.50799015 3.83247273 4.19137543 4.67140117 4.61022629\n",
      "  3.56875968 0.         3.79062516 4.44397733 5.42714896 4.86731205]\n",
      " [5.2396452  4.4616004  2.42907952 4.97485048 4.99952189 5.60240825\n",
      "  4.84727934 3.79062516 0.         4.24183155 5.4984214  5.24594007]\n",
      " [4.78257621 4.70748046 4.80522257 4.41600269 4.09987212 5.06420149\n",
      "  4.92605004 4.44397733 4.24183155 0.         4.17315162 4.41028917]\n",
      " [5.29514694 5.85388135 6.05706001 5.14072729 4.80537268 5.6575675\n",
      "  5.88480574 5.42714896 5.4984214  4.17315162 0.         5.32653576]\n",
      " [3.32500198 4.63052118 5.6496735  4.78670561 4.1109966  4.17634325\n",
      "  4.71578315 4.86731205 5.24594007 4.41028917 5.32653576 0.        ]]\n"
     ]
    },
    {
     "data": {
      "image/png": "[encoded data removed]",
      "text/plain": [
       "<Figure size 640x480 with 1 Axes>"
      ]
     },
     "metadata": {},
     "output_type": "display_data"
    },
    {
     "name": "stdout",
     "output_type": "stream",
     "text": [
      "Bottleneck distance: 0.3014275321252158\n",
      "Wasserstein distance: = 2.23\n"
     ]
    }
   ],
   "source": [
    "# Compute the persistent homology\n",
    "persistent_homology_1 = compute_phrase_distances_and_homology(context_3[0], text_3[0],  \"די הערצן פֿון די פּובליקום\")\n",
    "persistent_homology_2 = compute_phrase_distances_and_homology(context_4[0], text_4[0],  \"די הערצן פֿון די פּובליקום\")\n",
    "\n",
    "# Convert the persistent homology data to a numpy array\n",
    "persistent_homology_np_1 = np.array([[pt[1][0], pt[1][1]] for pt in persistent_homology_1 if pt[1][1] != float('inf')])\n",
    "persistent_homology_np_2 = np.array([[pt[1][0], pt[1][1]] for pt in persistent_homology_2 if pt[1][1] != float('inf')])\n",
    "\n",
    "# Compute and print the bottleneck distance\n",
    "bottleneck_dist = gd.bottleneck_distance(persistent_homology_np_1, persistent_homology_np_2)\n",
    "print(f\"Bottleneck distance: {bottleneck_dist}\")\n",
    "\n",
    "# Compute and print the Wasserstein distance\n",
    "print(f\"Wasserstein distance: = {wasserstein_distance(persistent_homology_np_1, persistent_homology_np_2, order=1., internal_p=2.):.2f}\")"
   ]
  },
  {
   "cell_type": "code",
   "execution_count": null,
   "metadata": {},
   "outputs": [],
   "source": []
  }
 ],
 "metadata": {
  "kernelspec": {
   "display_name": "env_1",
   "language": "python",
   "name": "python3"
  },
  "language_info": {
   "codemirror_mode": {
    "name": "ipython",
    "version": 3
   },
   "file_extension": ".py",
   "mimetype": "text/x-python",
   "name": "python",
   "nbconvert_exporter": "python",
   "pygments_lexer": "ipython3",
   "version": "3.10.11"
  },
  "orig_nbformat": 4
 },
 "nbformat": 4,
 "nbformat_minor": 2
}
