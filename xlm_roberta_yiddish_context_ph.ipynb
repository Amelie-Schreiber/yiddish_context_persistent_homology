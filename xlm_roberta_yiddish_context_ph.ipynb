{
 "cells": [
  {
   "cell_type": "code",
   "execution_count": 24,
   "metadata": {},
   "outputs": [
    {
     "name": "stdout",
     "output_type": "stream",
     "text": [
      "huggingface/tokenizers: The current process just got forked, after parallelism has already been used. Disabling parallelism to avoid deadlocks...\n",
      "To disable this warning, you can either:\n",
      "\t- Avoid using `tokenizers` before the fork if possible\n",
      "\t- Explicitly set the environment variable TOKENIZERS_PARALLELISM=(true | false)\n",
      "Note: you may need to restart the kernel to use updated packages.\n"
     ]
    }
   ],
   "source": [
    "pip install transformers torch numpy gudhi -q"
   ]
  },
  {
   "cell_type": "code",
   "execution_count": 25,
   "metadata": {},
   "outputs": [],
   "source": [
    "text = [\"קלעזמער איז אַ טראַדיציאָנעלע ייִדיש מוזיק פון מיטל אייראָפע און רוסלאַנד, וואָס האָט זיך אויסגעוויקלט איבער די יאָרהונדערטן. דאָס נשמה קלאַנג איז קענטשענדיק פֿאַר זייַן הערציקע ניגונים און קענענדיקע ריטמען. זייַנע מוזיק האָט געווינען די באַגלייטונג פֿאַר אַלע לעבענס איבענטן, פֿון די הייליקע יאָמער צו די גלעזלעך פון שנאַפּס.\"]"
   ]
  },
  {
   "cell_type": "code",
   "execution_count": 26,
   "metadata": {},
   "outputs": [
    {
     "name": "stderr",
     "output_type": "stream",
     "text": [
      "Some weights of the model checkpoint at xlm-roberta-large were not used when initializing XLMRobertaModel: ['lm_head.layer_norm.weight', 'lm_head.dense.weight', 'lm_head.layer_norm.bias', 'lm_head.dense.bias', 'lm_head.bias']\n",
      "- This IS expected if you are initializing XLMRobertaModel from the checkpoint of a model trained on another task or with another architecture (e.g. initializing a BertForSequenceClassification model from a BertForPreTraining model).\n",
      "- This IS NOT expected if you are initializing XLMRobertaModel from the checkpoint of a model that you expect to be exactly identical (initializing a BertForSequenceClassification model from a BertForSequenceClassification model).\n"
     ]
    },
    {
     "name": "stdout",
     "output_type": "stream",
     "text": [
      "torch.Size([1, 106, 64])\n",
      "tensor([[[-0.0560, -0.0188, -0.0196,  ..., -0.0190,  0.0121, -0.0159],\n",
      "         [-0.0425, -0.0106, -0.0669,  ...,  0.0314,  0.0331,  0.0430],\n",
      "         [ 0.0406,  0.0382, -0.0397,  ...,  0.0505, -0.0336,  0.0409],\n",
      "         ...,\n",
      "         [-0.3613,  0.0620, -0.2611,  ..., -0.1623,  0.2001,  0.2185],\n",
      "         [-0.0128,  0.0160, -0.0340,  ...,  0.0264, -0.0071,  0.0340],\n",
      "         [-0.0916,  0.0244,  0.0094,  ...,  0.0407,  0.0077, -0.0078]]],\n",
      "       grad_fn=<CloneBackward0>)\n"
     ]
    }
   ],
   "source": [
    "import torch\n",
    "from transformers import BertTokenizer, BertModel\n",
    "from transformers import BertModel, BertTokenizerFast\n",
    "from transformers import AutoTokenizer, AutoModel  # Corrected import here\n",
    "\n",
    "def compute_output(sentence, layer, head):\n",
    "    # Load pre-trained model\n",
    "    tokenizer = AutoTokenizer.from_pretrained('xlm-roberta-large')\n",
    "    model = AutoModel.from_pretrained(\"xlm-roberta-large\")  # Corrected line here\n",
    "\n",
    "    # Tokenize input and convert to tensor\n",
    "    inputs = tokenizer(sentence, return_tensors=\"pt\")\n",
    "\n",
    "    # Forward pass\n",
    "    # Specify `output_hidden_states=True` when calling the model\n",
    "    outputs = model(**inputs, output_attentions=True, output_hidden_states=True)\n",
    "\n",
    "    # Obtain the attention weights\n",
    "    attentions = outputs.attentions\n",
    "\n",
    "    # Obtain the attention weights for the specific layer and head\n",
    "    S = attentions[layer][0, head]\n",
    "\n",
    "    # Obtain the value vectors\n",
    "    model.eval()\n",
    "    with torch.no_grad():\n",
    "        hidden_states = outputs.hidden_states[layer]\n",
    "        all_W_v = model.encoder.layer[layer].attention.self.value.weight\n",
    "        num_heads = model.config.num_attention_heads\n",
    "        head_dim = model.config.hidden_size // num_heads\n",
    "        W_v_heads = all_W_v.view(num_heads, head_dim, model.config.hidden_size)\n",
    "        W_v = W_v_heads[head]\n",
    "        V = torch.matmul(hidden_states, W_v.t())\n",
    "\n",
    "    # Compute the output O\n",
    "    O = torch.matmul(S, V)\n",
    "\n",
    "    return O\n",
    "\n",
    "# Set the layer and head to use for computation\n",
    "layer = 5\n",
    "head = 10\n",
    "\n",
    "# Compute the context vectors for each text in the corpus\n",
    "context = [compute_output(t, layer, head) for t in text]\n",
    "print(context[0].shape)\n",
    "print(context[0])"
   ]
  },
  {
   "cell_type": "code",
   "execution_count": 27,
   "metadata": {},
   "outputs": [
    {
     "name": "stdout",
     "output_type": "stream",
     "text": [
      "Barcode for text 0:\n"
     ]
    },
    {
     "data": {
      "image/png": "[encoded data removed]",
      "text/plain": [
       "<Figure size 640x480 with 1 Axes>"
      ]
     },
     "metadata": {},
     "output_type": "display_data"
    }
   ],
   "source": [
    "import matplotlib.pyplot as plt\n",
    "import numpy as np\n",
    "from scipy.spatial import distance_matrix\n",
    "import gudhi as gd\n",
    "\n",
    "def compute_distances_and_plot_barcode(output):\n",
    "    # Detach the output tensor, squeeze, and convert to numpy array\n",
    "    output_np = output.squeeze().detach().numpy()\n",
    "\n",
    "    # Compute the pairwise Euclidean distance matrix\n",
    "    distances = distance_matrix(output_np, output_np)\n",
    "\n",
    "    # Compute the persistent homology of the distance matrix\n",
    "    rips_complex = gd.RipsComplex(distance_matrix=distances, max_edge_length=np.max(distances))\n",
    "    simplex_tree = rips_complex.create_simplex_tree(max_dimension=2)\n",
    "    persistent_homology = simplex_tree.persistence(min_persistence=0.001)\n",
    "    \n",
    "    # Plot the barcode diagram\n",
    "    gd.plot_persistence_barcode(persistence=persistent_homology)\n",
    "    plt.show()\n",
    "\n",
    "# Compute the barcode diagrams for each context vector\n",
    "for i, output in enumerate(context):\n",
    "    print(f\"Barcode for text {i}:\")\n",
    "    compute_distances_and_plot_barcode(output)"
   ]
  },
  {
   "cell_type": "code",
   "execution_count": 28,
   "metadata": {},
   "outputs": [
    {
     "name": "stdout",
     "output_type": "stream",
     "text": [
      "Clusters for text 0:\n",
      "Cluster 0: <s>, ▁אַ, ▁טר, אַד, אָנע, ▁פון, ▁און, ▁האָט, ▁זיך, ▁אויסגע, ▁און, ▁, ▁האָט, ייט, ב, ▁פֿון, ▁, ▁פון\n",
      "Cluster 1: י, ניג\n",
      "Cluster 2: ווי, ייַ\n",
      "Cluster 3: ▁די, ▁די, ▁די\n",
      "Cluster 4: ▁פֿאַר, ▁פֿאַר\n"
     ]
    }
   ],
   "source": [
    "from scipy.spatial.distance import pdist, squareform\n",
    "from sklearn.cluster import DBSCAN\n",
    "from transformers import BertTokenizer\n",
    "from transformers import BertModel, BertTokenizerFast\n",
    "\n",
    "def cluster_and_get_words(context, sentence, eps=0.1):\n",
    "    # Load pre-trained model tokenizer\n",
    "    tokenizer = AutoTokenizer.from_pretrained('xlm-roberta-large')\n",
    "\n",
    "\n",
    "    # Tokenize input and convert to tensor\n",
    "    inputs = tokenizer(sentence, return_tensors=\"pt\")\n",
    "    tokens = tokenizer.convert_ids_to_tokens(inputs['input_ids'][0])\n",
    "\n",
    "    # Squeeze the context tensor to remove the batch size dimension\n",
    "    context = context.squeeze(0)\n",
    "\n",
    "    # Compute the pairwise distance matrix\n",
    "    distances = pdist(context.detach().numpy(), 'euclidean')\n",
    "    dist_matrix = squareform(distances)\n",
    "\n",
    "    # Run DBSCAN on the distance matrix\n",
    "    clustering = DBSCAN(eps=eps, min_samples=2, metric='precomputed').fit(dist_matrix)\n",
    "\n",
    "    # Get the words corresponding to each cluster\n",
    "    clusters = {}\n",
    "    for i, label in enumerate(clustering.labels_):\n",
    "        if label != -1:  # Ignore noise (-1 label)\n",
    "            if label not in clusters:\n",
    "                clusters[label] = []\n",
    "            clusters[label].append(tokens[i])\n",
    "\n",
    "    return clusters\n",
    "\n",
    "# Compute the clusters for each context vector\n",
    "clusters = []\n",
    "for i, output in enumerate(context):\n",
    "    print(f\"Clusters for text {i}:\")\n",
    "    clusters.append(cluster_and_get_words(output, text[i]))\n",
    "    for label, words in clusters[-1].items():\n",
    "        print(f\"Cluster {label}: {', '.join(words)}\")"
   ]
  },
  {
   "cell_type": "code",
   "execution_count": 29,
   "metadata": {},
   "outputs": [
    {
     "name": "stdout",
     "output_type": "stream",
     "text": [
      "Tokens of the sub-collection: ['▁באַ', 'גל', 'ייט', 'ונג', '▁פֿאַר', '▁אַלע', '▁לע', 'ב', 'ענס', '▁אי', 'בע', 'נטן']\n",
      "Distance matrix: (12, 12)\n",
      "Distance matrix: [[0.         0.37161135 0.40049196 0.40450526 0.4708538  0.4175652\n",
      "  0.38166877 0.32174474 0.41124904 0.53055418 1.12058507 0.55221223]\n",
      " [0.37161135 0.         0.6938754  0.32637198 0.63282079 0.18669558\n",
      "  0.13967249 0.33396939 0.36102485 0.60058658 1.08988954 0.52352948]\n",
      " [0.40049196 0.6938754  0.         0.74806974 0.39708315 0.7150947\n",
      "  0.69362376 0.60449185 0.76063321 0.51543632 1.45780351 0.8943614 ]\n",
      " [0.40450526 0.32637198 0.74806974 0.         0.81382199 0.39175682\n",
      "  0.34178542 0.42787206 0.09941246 0.8058495  0.88055072 0.25175595]\n",
      " [0.4708538  0.63282079 0.39708315 0.81382199 0.         0.62758634\n",
      "  0.61586064 0.53402314 0.82731546 0.28330035 1.50952386 0.98273766]\n",
      " [0.4175652  0.18669558 0.7150947  0.39175682 0.62758634 0.\n",
      "  0.17645315 0.40119187 0.42342027 0.60645063 1.12772447 0.57600515]\n",
      " [0.38166877 0.13967249 0.69362376 0.34178542 0.61586064 0.17645315\n",
      "  0.         0.32774185 0.37862352 0.55617803 1.12356605 0.54775263]\n",
      " [0.32174474 0.33396939 0.60449185 0.42787206 0.53402314 0.40119187\n",
      "  0.32774185 0.         0.41715053 0.50698789 1.09202967 0.5724411 ]\n",
      " [0.41124904 0.36102485 0.76063321 0.09941246 0.82731546 0.42342027\n",
      "  0.37862352 0.41715053 0.         0.82693045 0.81860442 0.19124177]\n",
      " [0.53055418 0.60058658 0.51543632 0.8058495  0.28330035 0.60645063\n",
      "  0.55617803 0.50698789 0.82693045 0.         1.55554701 0.99782936]\n",
      " [1.12058507 1.08988954 1.45780351 0.88055072 1.50952386 1.12772447\n",
      "  1.12356605 1.09202967 0.81860442 1.55554701 0.         0.6508133 ]\n",
      " [0.55221223 0.52352948 0.8943614  0.25175595 0.98273766 0.57600515\n",
      "  0.54775263 0.5724411  0.19124177 0.99782936 0.6508133  0.        ]]\n"
     ]
    },
    {
     "data": {
      "image/png": "[encoded data removed]",
      "text/plain": [
       "<Figure size 640x480 with 1 Axes>"
      ]
     },
     "metadata": {},
     "output_type": "display_data"
    },
    {
     "data": {
      "text/plain": [
       "[(1, (0.5069878907930111, 0.5305541811976522)),\n",
       " (0, (0.0, inf)),\n",
       " (0, (0.0, 0.6508132954875305)),\n",
       " (0, (0.0, 0.4004919601688668)),\n",
       " (0, (0.0, 0.39708315357923757)),\n",
       " (0, (0.0, 0.32774184783240434)),\n",
       " (0, (0.0, 0.3263719846570727)),\n",
       " (0, (0.0, 0.3217447390530458)),\n",
       " (0, (0.0, 0.2833003482936052)),\n",
       " (0, (0.0, 0.19124176849837848)),\n",
       " (0, (0.0, 0.17645315363759018)),\n",
       " (0, (0.0, 0.13967248766522408)),\n",
       " (0, (0.0, 0.09941245876735676))]"
      ]
     },
     "execution_count": 29,
     "metadata": {},
     "output_type": "execute_result"
    }
   ],
   "source": [
    "from scipy.spatial import distance_matrix\n",
    "import gudhi as gd\n",
    "import numpy as np\n",
    "import matplotlib.pyplot as plt\n",
    "from transformers import BertTokenizer\n",
    "\n",
    "def compute_phrase_distances_and_homology(context_vectors, sentence, phrase):\n",
    "    # Initialize the tokenizer\n",
    "    tokenizer = AutoTokenizer.from_pretrained('xlm-roberta-large')\n",
    "\n",
    "    # Tokenize the sentence and the phrase\n",
    "    sentence_tokens = tokenizer.encode(sentence, add_special_tokens=False)\n",
    "    phrase_tokens = tokenizer.encode(phrase, add_special_tokens=False)\n",
    "\n",
    "    # Find the indices of the phrase tokens in the sentence\n",
    "    phrase_indices = []\n",
    "    phrase_length = len(phrase_tokens)\n",
    "    for i in range(len(sentence_tokens) - phrase_length + 1):\n",
    "        if sentence_tokens[i:i+phrase_length] == phrase_tokens:\n",
    "            phrase_indices.extend(range(i, i+phrase_length))\n",
    "            break\n",
    "\n",
    "    # Extract the context vectors for the phrase\n",
    "    phrase_context_vectors = context_vectors[0, phrase_indices]\n",
    "\n",
    "    # Detach the tensor and convert to numpy array\n",
    "    phrase_context_vectors_np = phrase_context_vectors.detach().numpy()\n",
    "\n",
    "    # Print the tokens of the sub-collection and their context vectors\n",
    "    print(f'Tokens of the sub-collection: {tokenizer.convert_ids_to_tokens(phrase_tokens)}')\n",
    "    # print(f'Context vectors of the sub-collection: {phrase_context_vectors_np}')\n",
    "\n",
    "    # Compute the pairwise Euclidean distances among the phrase context vectors\n",
    "    distances = distance_matrix(phrase_context_vectors_np, phrase_context_vectors_np)\n",
    "\n",
    "    # Print the distance matrix\n",
    "    print(f'Distance matrix: {distances.shape}')\n",
    "    print(f'Distance matrix: {distances}')\n",
    "\n",
    "    # Compute the persistent homology of the distance matrix\n",
    "    rips_complex = gd.RipsComplex(distance_matrix=distances, max_edge_length=np.max(distances))\n",
    "    simplex_tree = rips_complex.create_simplex_tree(max_dimension=2)\n",
    "    persistent_homology = simplex_tree.persistence(min_persistence=0.001)\n",
    "\n",
    "    # Plot the barcode diagram\n",
    "    gd.plot_persistence_barcode(persistence=persistent_homology)\n",
    "    plt.show()\n",
    "\n",
    "    return persistent_homology\n",
    "\n",
    "# Assuming that 'context_vectors' is the tensor of context vectors for your sentence,\n",
    "# and 'sentence' is your original sentence, you can use the function like this:\n",
    "compute_phrase_distances_and_homology(context[0], text[0], \"באַגלייטונג פֿאַר אַלע לעבענס איבענטן\")"
   ]
  },
  {
   "cell_type": "code",
   "execution_count": 30,
   "metadata": {},
   "outputs": [],
   "source": [
    "text_2 = [\"ייִדיש ליטעראַטור האָט אַ רייכע געשיכטע, פֿונעם מיטלאַלטער דורך די מאָדערנע צייטן. דער נשמה קלאַנג איז געפילט אין די ווערק פון מנהעם מענדל מאַניס, שאָלום עליכם, און י. ל. פּערעץ. זייַנע ווערטער האָבן געווינען די באַגלייטונג פֿאַר אַלע לעבענס איבענטן, פֿון די עמעסע מאַגילות צו די מאָדערנע ראָמאַנטישע נאָוועלן.\"]"
   ]
  },
  {
   "cell_type": "code",
   "execution_count": 31,
   "metadata": {},
   "outputs": [
    {
     "name": "stderr",
     "output_type": "stream",
     "text": [
      "Some weights of the model checkpoint at xlm-roberta-large were not used when initializing XLMRobertaModel: ['lm_head.layer_norm.weight', 'lm_head.dense.weight', 'lm_head.layer_norm.bias', 'lm_head.dense.bias', 'lm_head.bias']\n",
      "- This IS expected if you are initializing XLMRobertaModel from the checkpoint of a model trained on another task or with another architecture (e.g. initializing a BertForSequenceClassification model from a BertForPreTraining model).\n",
      "- This IS NOT expected if you are initializing XLMRobertaModel from the checkpoint of a model that you expect to be exactly identical (initializing a BertForSequenceClassification model from a BertForSequenceClassification model).\n"
     ]
    },
    {
     "name": "stdout",
     "output_type": "stream",
     "text": [
      "Tokens of the sub-collection: ['▁באַ', 'גל', 'ייט', 'ונג', '▁פֿאַר', '▁אַלע', '▁לע', 'ב', 'ענס', '▁אי', 'בע', 'נטן']\n",
      "Distance matrix: (12, 12)\n",
      "Distance matrix: [[0.         0.40629703 0.51561242 0.465859   0.42060899 0.43322735\n",
      "  0.44470979 0.39483073 0.51549594 0.77274005 1.07117834 0.65620187]\n",
      " [0.40629703 0.         0.85997423 0.22058418 0.66585823 0.21496059\n",
      "  0.21717268 0.34509868 0.31875135 0.89909072 0.92594415 0.50599018]\n",
      " [0.51561242 0.85997423 0.         0.92196356 0.39806803 0.82934535\n",
      "  0.83058528 0.780846   0.99006656 0.70429711 1.54685406 1.13133846]\n",
      " [0.465859   0.22058418 0.92196356 0.         0.79914046 0.38594271\n",
      "  0.39588199 0.45527507 0.15419329 1.054901   0.80070016 0.34034577]\n",
      " [0.42060899 0.66585823 0.39806803 0.79914046 0.         0.60347265\n",
      "  0.57431803 0.52813229 0.87099987 0.43648918 1.42935522 1.03413125]\n",
      " [0.43322735 0.21496059 0.82934535 0.38594271 0.60347265 0.\n",
      "  0.1634562  0.35152789 0.46247246 0.80725271 1.02794136 0.63772869]\n",
      " [0.44470979 0.21717268 0.83058528 0.39588199 0.57431803 0.1634562\n",
      "  0.         0.30858955 0.47866839 0.74320272 1.06062882 0.66164401]\n",
      " [0.39483073 0.34509868 0.780846   0.45527507 0.52813229 0.35152789\n",
      "  0.30858955 0.         0.49219758 0.73857056 1.01446834 0.64973433]\n",
      " [0.51549594 0.31875135 0.99006656 0.15419329 0.87099987 0.46247246\n",
      "  0.47866839 0.49219758 0.         1.13923843 0.6652238  0.20485834]\n",
      " [0.77274005 0.89909072 0.70429711 1.054901   0.43648918 0.80725271\n",
      "  0.74320272 0.73857056 1.13923843 0.         1.70408741 1.31149631]\n",
      " [1.07117834 0.92594415 1.54685406 0.80070016 1.42935522 1.02794136\n",
      "  1.06062882 1.01446834 0.6652238  1.70408741 0.         0.48508637]\n",
      " [0.65620187 0.50599018 1.13133846 0.34034577 1.03413125 0.63772869\n",
      "  0.66164401 0.64973433 0.20485834 1.31149631 0.48508637 0.        ]]\n"
     ]
    },
    {
     "data": {
      "image/png": "[encoded data removed]",
      "text/plain": [
       "<Figure size 640x480 with 1 Axes>"
      ]
     },
     "metadata": {},
     "output_type": "display_data"
    },
    {
     "data": {
      "text/plain": [
       "[(0, (0.0, inf)),\n",
       " (0, (0.0, 0.48508637383507236)),\n",
       " (0, (0.0, 0.43648917934305415)),\n",
       " (0, (0.0, 0.420608985461366)),\n",
       " (0, (0.0, 0.3980680313725759)),\n",
       " (0, (0.0, 0.39483073061390683)),\n",
       " (0, (0.0, 0.3085895475345927)),\n",
       " (0, (0.0, 0.22058417607350092)),\n",
       " (0, (0.0, 0.21496059188091451)),\n",
       " (0, (0.0, 0.2048583429565206)),\n",
       " (0, (0.0, 0.16345620401194352)),\n",
       " (0, (0.0, 0.15419328679652944))]"
      ]
     },
     "execution_count": 31,
     "metadata": {},
     "output_type": "execute_result"
    }
   ],
   "source": [
    "context_2 = [compute_output(t, layer, head) for t in text_2]\n",
    "compute_phrase_distances_and_homology(context_2[0], text_2[0], \"באַגלייטונג פֿאַר אַלע לעבענס איבענטן\")"
   ]
  },
  {
   "cell_type": "code",
   "execution_count": 32,
   "metadata": {},
   "outputs": [
    {
     "name": "stdout",
     "output_type": "stream",
     "text": [
      "Tokens of the sub-collection: ['▁באַ', 'גל', 'ייט', 'ונג', '▁פֿאַר', '▁אַלע', '▁לע', 'ב', 'ענס', '▁אי', 'בע', 'נטן']\n",
      "Distance matrix: (12, 12)\n",
      "Distance matrix: [[0.         0.37161135 0.40049196 0.40450526 0.4708538  0.4175652\n",
      "  0.38166877 0.32174474 0.41124904 0.53055418 1.12058507 0.55221223]\n",
      " [0.37161135 0.         0.6938754  0.32637198 0.63282079 0.18669558\n",
      "  0.13967249 0.33396939 0.36102485 0.60058658 1.08988954 0.52352948]\n",
      " [0.40049196 0.6938754  0.         0.74806974 0.39708315 0.7150947\n",
      "  0.69362376 0.60449185 0.76063321 0.51543632 1.45780351 0.8943614 ]\n",
      " [0.40450526 0.32637198 0.74806974 0.         0.81382199 0.39175682\n",
      "  0.34178542 0.42787206 0.09941246 0.8058495  0.88055072 0.25175595]\n",
      " [0.4708538  0.63282079 0.39708315 0.81382199 0.         0.62758634\n",
      "  0.61586064 0.53402314 0.82731546 0.28330035 1.50952386 0.98273766]\n",
      " [0.4175652  0.18669558 0.7150947  0.39175682 0.62758634 0.\n",
      "  0.17645315 0.40119187 0.42342027 0.60645063 1.12772447 0.57600515]\n",
      " [0.38166877 0.13967249 0.69362376 0.34178542 0.61586064 0.17645315\n",
      "  0.         0.32774185 0.37862352 0.55617803 1.12356605 0.54775263]\n",
      " [0.32174474 0.33396939 0.60449185 0.42787206 0.53402314 0.40119187\n",
      "  0.32774185 0.         0.41715053 0.50698789 1.09202967 0.5724411 ]\n",
      " [0.41124904 0.36102485 0.76063321 0.09941246 0.82731546 0.42342027\n",
      "  0.37862352 0.41715053 0.         0.82693045 0.81860442 0.19124177]\n",
      " [0.53055418 0.60058658 0.51543632 0.8058495  0.28330035 0.60645063\n",
      "  0.55617803 0.50698789 0.82693045 0.         1.55554701 0.99782936]\n",
      " [1.12058507 1.08988954 1.45780351 0.88055072 1.50952386 1.12772447\n",
      "  1.12356605 1.09202967 0.81860442 1.55554701 0.         0.6508133 ]\n",
      " [0.55221223 0.52352948 0.8943614  0.25175595 0.98273766 0.57600515\n",
      "  0.54775263 0.5724411  0.19124177 0.99782936 0.6508133  0.        ]]\n"
     ]
    },
    {
     "data": {
      "image/png": "[encoded data removed]",
      "text/plain": [
       "<Figure size 640x480 with 1 Axes>"
      ]
     },
     "metadata": {},
     "output_type": "display_data"
    },
    {
     "name": "stdout",
     "output_type": "stream",
     "text": [
      "Tokens of the sub-collection: ['▁באַ', 'גל', 'ייט', 'ונג', '▁פֿאַר', '▁אַלע', '▁לע', 'ב', 'ענס', '▁אי', 'בע', 'נטן']\n",
      "Distance matrix: (12, 12)\n",
      "Distance matrix: [[0.         0.40629703 0.51561242 0.465859   0.42060899 0.43322735\n",
      "  0.44470979 0.39483073 0.51549594 0.77274005 1.07117834 0.65620187]\n",
      " [0.40629703 0.         0.85997423 0.22058418 0.66585823 0.21496059\n",
      "  0.21717268 0.34509868 0.31875135 0.89909072 0.92594415 0.50599018]\n",
      " [0.51561242 0.85997423 0.         0.92196356 0.39806803 0.82934535\n",
      "  0.83058528 0.780846   0.99006656 0.70429711 1.54685406 1.13133846]\n",
      " [0.465859   0.22058418 0.92196356 0.         0.79914046 0.38594271\n",
      "  0.39588199 0.45527507 0.15419329 1.054901   0.80070016 0.34034577]\n",
      " [0.42060899 0.66585823 0.39806803 0.79914046 0.         0.60347265\n",
      "  0.57431803 0.52813229 0.87099987 0.43648918 1.42935522 1.03413125]\n",
      " [0.43322735 0.21496059 0.82934535 0.38594271 0.60347265 0.\n",
      "  0.1634562  0.35152789 0.46247246 0.80725271 1.02794136 0.63772869]\n",
      " [0.44470979 0.21717268 0.83058528 0.39588199 0.57431803 0.1634562\n",
      "  0.         0.30858955 0.47866839 0.74320272 1.06062882 0.66164401]\n",
      " [0.39483073 0.34509868 0.780846   0.45527507 0.52813229 0.35152789\n",
      "  0.30858955 0.         0.49219758 0.73857056 1.01446834 0.64973433]\n",
      " [0.51549594 0.31875135 0.99006656 0.15419329 0.87099987 0.46247246\n",
      "  0.47866839 0.49219758 0.         1.13923843 0.6652238  0.20485834]\n",
      " [0.77274005 0.89909072 0.70429711 1.054901   0.43648918 0.80725271\n",
      "  0.74320272 0.73857056 1.13923843 0.         1.70408741 1.31149631]\n",
      " [1.07117834 0.92594415 1.54685406 0.80070016 1.42935522 1.02794136\n",
      "  1.06062882 1.01446834 0.6652238  1.70408741 0.         0.48508637]\n",
      " [0.65620187 0.50599018 1.13133846 0.34034577 1.03413125 0.63772869\n",
      "  0.66164401 0.64973433 0.20485834 1.31149631 0.48508637 0.        ]]\n"
     ]
    },
    {
     "data": {
      "image/png": "[encoded data removed]",
      "text/plain": [
       "<Figure size 640x480 with 1 Axes>"
      ]
     },
     "metadata": {},
     "output_type": "display_data"
    },
    {
     "name": "stdout",
     "output_type": "stream",
     "text": [
      "Bottleneck distance: 0.16572692165245817\n",
      "Wasserstein distance: = 0.59\n"
     ]
    }
   ],
   "source": [
    "# from gudhi.wasserstein import wasserstein_distance \n",
    "# Could also be: \n",
    "from gudhi.hera import wasserstein_distance\n",
    "import numpy as np\n",
    "\n",
    "# Compute the persistent homology\n",
    "persistent_homology_1 = compute_phrase_distances_and_homology(context[0], text[0], \"באַגלייטונג פֿאַר אַלע לעבענס איבענטן\")\n",
    "persistent_homology_2 = compute_phrase_distances_and_homology(context_2[0], text_2[0], \"באַגלייטונג פֿאַר אַלע לעבענס איבענטן\")\n",
    "\n",
    "# Convert the persistent homology data to a numpy array\n",
    "persistent_homology_np_1 = np.array([[pt[1][0], pt[1][1]] for pt in persistent_homology_1 if pt[1][1] != float('inf')])\n",
    "persistent_homology_np_2 = np.array([[pt[1][0], pt[1][1]] for pt in persistent_homology_2 if pt[1][1] != float('inf')])\n",
    "\n",
    "# Compute and print the bottleneck distance\n",
    "bottleneck_dist = gd.bottleneck_distance(persistent_homology_np_1, persistent_homology_np_2)\n",
    "print(f\"Bottleneck distance: {bottleneck_dist}\")\n",
    "\n",
    "# Compute and print the Wasserstein distance\n",
    "print(f\"Wasserstein distance: = {wasserstein_distance(persistent_homology_np_1, persistent_homology_np_2, order=1., internal_p=2.):.2f}\")"
   ]
  },
  {
   "cell_type": "code",
   "execution_count": 33,
   "metadata": {},
   "outputs": [],
   "source": [
    "text_3 = [\"דער ייִדישער טעאַטער האָט אַ רייכע געשיכטע, פון די ערשטע וואַנדערנדיקע טרופּעס אויף די גאַסן פֿון מיטל אייראָפע, ביז צו די בראָדוויי שאָוז פון ניו יאָרק. זייַנע פֿאַרבינדונג פֿאַר אַ חלום האָט געווינען די לייטמאָטיװ פֿאַר פֿילע ייִדישע שטיקען, מיט די וויטגעהענדיקע קאַמעדיען און דראַמען וואָס האָבן געווינען די הערצן פֿון די פּובליקום.\"]\n",
    "\n",
    "text_4 = [\"פֿאַמיליע געטראַפֿענישן זענען אַ וויכטיקער טייל פון טראַדיציאָנעלע ייִדישע קולטור. די פֿאַרבינדונג פֿאַר אַ חלום איז אַ געמיינזאַמע אויסדרוק, וואָס באַזייכנט די וויכטיקייט פון שאַרען די הערצן פֿון די פּובליקום, אַזוי ווי די שבת מאַלזעטן אָדער די יאָמער פֿאַרברענגען.\"]"
   ]
  },
  {
   "cell_type": "code",
   "execution_count": 34,
   "metadata": {},
   "outputs": [
    {
     "name": "stderr",
     "output_type": "stream",
     "text": [
      "Some weights of the model checkpoint at xlm-roberta-large were not used when initializing XLMRobertaModel: ['lm_head.layer_norm.weight', 'lm_head.dense.weight', 'lm_head.layer_norm.bias', 'lm_head.dense.bias', 'lm_head.bias']\n",
      "- This IS expected if you are initializing XLMRobertaModel from the checkpoint of a model trained on another task or with another architecture (e.g. initializing a BertForSequenceClassification model from a BertForPreTraining model).\n",
      "- This IS NOT expected if you are initializing XLMRobertaModel from the checkpoint of a model that you expect to be exactly identical (initializing a BertForSequenceClassification model from a BertForSequenceClassification model).\n",
      "Some weights of the model checkpoint at xlm-roberta-large were not used when initializing XLMRobertaModel: ['lm_head.layer_norm.weight', 'lm_head.dense.weight', 'lm_head.layer_norm.bias', 'lm_head.dense.bias', 'lm_head.bias']\n",
      "- This IS expected if you are initializing XLMRobertaModel from the checkpoint of a model trained on another task or with another architecture (e.g. initializing a BertForSequenceClassification model from a BertForPreTraining model).\n",
      "- This IS NOT expected if you are initializing XLMRobertaModel from the checkpoint of a model that you expect to be exactly identical (initializing a BertForSequenceClassification model from a BertForSequenceClassification model).\n"
     ]
    }
   ],
   "source": [
    "context_3 = [compute_output(t, layer, head) for t in text_3]\n",
    "\n",
    "context_4 = [compute_output(t, layer, head) for t in text_4]"
   ]
  },
  {
   "cell_type": "code",
   "execution_count": 35,
   "metadata": {},
   "outputs": [
    {
     "name": "stdout",
     "output_type": "stream",
     "text": [
      "Tokens of the sub-collection: ['▁פֿאַר', 'בי', 'נד', 'ונג', '▁פֿאַר', '▁אַ', '▁חלו', 'ם']\n",
      "Distance matrix: (8, 8)\n",
      "Distance matrix: [[0.         0.47107309 0.55787896 0.40451344 0.96032841 0.32427965\n",
      "  0.41656233 0.33403235]\n",
      " [0.47107309 0.         0.50962817 0.34055833 1.19027359 0.26627615\n",
      "  0.15740142 0.2509993 ]\n",
      " [0.55787896 0.50962817 0.         0.31967374 0.77844389 0.43194048\n",
      "  0.56659091 0.50251536]\n",
      " [0.40451344 0.34055833 0.31967374 0.         0.95555343 0.35363873\n",
      "  0.35306542 0.26105296]\n",
      " [0.96032841 1.19027359 0.77844389 0.95555343 0.         0.99962074\n",
      "  1.2025106  1.1264676 ]\n",
      " [0.32427965 0.26627615 0.43194048 0.35363873 0.99962074 0.\n",
      "  0.27412592 0.31215639]\n",
      " [0.41656233 0.15740142 0.56659091 0.35306542 1.2025106  0.27412592\n",
      "  0.         0.22254782]\n",
      " [0.33403235 0.2509993  0.50251536 0.26105296 1.1264676  0.31215639\n",
      "  0.22254782 0.        ]]\n"
     ]
    },
    {
     "data": {
      "image/png": "[encoded data removed]",
      "text/plain": [
       "<Figure size 640x480 with 1 Axes>"
      ]
     },
     "metadata": {},
     "output_type": "display_data"
    },
    {
     "name": "stdout",
     "output_type": "stream",
     "text": [
      "Tokens of the sub-collection: ['▁פֿאַר', 'בי', 'נד', 'ונג', '▁פֿאַר', '▁אַ', '▁חלו', 'ם']\n",
      "Distance matrix: (8, 8)\n",
      "Distance matrix: [[0.         0.69367674 0.42432072 0.71172268 0.54333963 0.47369443\n",
      "  0.4959003  0.72959354]\n",
      " [0.69367674 0.         0.44185505 0.36203407 1.17922076 0.26207699\n",
      "  0.27523833 0.31465543]\n",
      " [0.42432072 0.44185505 0.         0.42990599 0.85181954 0.3584632\n",
      "  0.40571109 0.4906027 ]\n",
      " [0.71172268 0.36203407 0.42990599 0.         1.11471109 0.45528619\n",
      "  0.44930591 0.19196426]\n",
      " [0.54333963 1.17922076 0.85181954 1.11471109 0.         0.98410969\n",
      "  1.00619312 1.17670825]\n",
      " [0.47369443 0.26207699 0.3584632  0.45528619 0.98410969 0.\n",
      "  0.09326505 0.4169314 ]\n",
      " [0.4959003  0.27523833 0.40571109 0.44930591 1.00619312 0.09326505\n",
      "  0.         0.39413659]\n",
      " [0.72959354 0.31465543 0.4906027  0.19196426 1.17670825 0.4169314\n",
      "  0.39413659 0.        ]]\n"
     ]
    },
    {
     "data": {
      "image/png": "[encoded data removed]",
      "text/plain": [
       "<Figure size 640x480 with 1 Axes>"
      ]
     },
     "metadata": {},
     "output_type": "display_data"
    },
    {
     "name": "stdout",
     "output_type": "stream",
     "text": [
      "Bottleneck distance: 0.23510426163924902\n",
      "Wasserstein distance: = 0.53\n"
     ]
    }
   ],
   "source": [
    "# Compute the persistent homology\n",
    "persistent_homology_1 = compute_phrase_distances_and_homology(context_3[0], text_3[0], \"פֿאַרבינדונג פֿאַר אַ חלום\")\n",
    "persistent_homology_2 = compute_phrase_distances_and_homology(context_4[0], text_4[0], \"פֿאַרבינדונג פֿאַר אַ חלום\")\n",
    "\n",
    "# Convert the persistent homology data to a numpy array\n",
    "persistent_homology_np_1 = np.array([[pt[1][0], pt[1][1]] for pt in persistent_homology_1 if pt[1][1] != float('inf')])\n",
    "persistent_homology_np_2 = np.array([[pt[1][0], pt[1][1]] for pt in persistent_homology_2 if pt[1][1] != float('inf')])\n",
    "\n",
    "# Compute and print the bottleneck distance\n",
    "bottleneck_dist = gd.bottleneck_distance(persistent_homology_np_1, persistent_homology_np_2)\n",
    "print(f\"Bottleneck distance: {bottleneck_dist}\")\n",
    "\n",
    "# Compute and print the Wasserstein distance\n",
    "print(f\"Wasserstein distance: = {wasserstein_distance(persistent_homology_np_1, persistent_homology_np_2, order=1., internal_p=2.):.2f}\")"
   ]
  },
  {
   "cell_type": "code",
   "execution_count": 36,
   "metadata": {},
   "outputs": [
    {
     "name": "stdout",
     "output_type": "stream",
     "text": [
      "Tokens of the sub-collection: ['▁די', '▁הער', 'צן', '▁פֿון', '▁די', '▁', 'פּו', 'בליק', 'ום']\n",
      "Distance matrix: (9, 9)\n",
      "Distance matrix: [[0.         0.8083221  0.46406217 1.69564153 0.63176781 0.43953206\n",
      "  0.54332666 0.61415692 0.4229852 ]\n",
      " [0.8083221  0.         0.55999465 1.0027532  1.13923408 0.94457425\n",
      "  1.06073061 1.13506239 0.74948535]\n",
      " [0.46406217 0.55999465 0.         1.41243447 0.83120964 0.58977949\n",
      "  0.73491282 0.82287476 0.43335427]\n",
      " [1.69564153 1.0027532  1.41243447 0.         2.09892841 1.90222592\n",
      "  2.01487493 2.08903122 1.62908593]\n",
      " [0.63176781 1.13923408 0.83120964 2.09892841 0.         0.26132392\n",
      "  0.12048438 0.08426419 0.56430012]\n",
      " [0.43953206 0.94457425 0.58977949 1.90222592 0.26132392 0.\n",
      "  0.16615316 0.25707026 0.38562807]\n",
      " [0.54332666 1.06073061 0.73491282 2.01487493 0.12048438 0.16615316\n",
      "  0.         0.10402212 0.46927943]\n",
      " [0.61415692 1.13506239 0.82287476 2.08903122 0.08426419 0.25707026\n",
      "  0.10402212 0.         0.54438815]\n",
      " [0.4229852  0.74948535 0.43335427 1.62908593 0.56430012 0.38562807\n",
      "  0.46927943 0.54438815 0.        ]]\n"
     ]
    },
    {
     "data": {
      "image/png": "[encoded data removed]",
      "text/plain": [
       "<Figure size 640x480 with 1 Axes>"
      ]
     },
     "metadata": {},
     "output_type": "display_data"
    },
    {
     "name": "stdout",
     "output_type": "stream",
     "text": [
      "Tokens of the sub-collection: ['▁די', '▁הער', 'צן', '▁פֿון', '▁די', '▁', 'פּו', 'בליק', 'ום']\n",
      "Distance matrix: (9, 9)\n",
      "Distance matrix: [[0.         1.31523913 0.39794027 2.11001492 0.66884882 0.46025347\n",
      "  0.54787076 0.65492294 0.35152769]\n",
      " [1.31523913 0.         1.11863725 1.06471106 1.59605173 1.23245933\n",
      "  1.53716665 1.59814708 1.17297038]\n",
      " [0.39794027 1.11863725 0.         1.88259211 0.82559301 0.50281459\n",
      "  0.70623619 0.81627719 0.41770209]\n",
      " [2.11001492 1.06471106 1.88259211 0.         2.51516816 2.15270154\n",
      "  2.44449073 2.52127944 2.01969265]\n",
      " [0.66884882 1.59605173 0.82559301 2.51516816 0.         0.39688509\n",
      "  0.16379483 0.11120523 0.58414124]\n",
      " [0.46025347 1.23245933 0.50281459 2.15270154 0.39688509 0.\n",
      "  0.31643234 0.39630135 0.29159519]\n",
      " [0.54787076 1.53716665 0.70623619 2.44449073 0.16379483 0.31643234\n",
      "  0.         0.13568301 0.48743629]\n",
      " [0.65492294 1.59814708 0.81627719 2.52127944 0.11120523 0.39630135\n",
      "  0.13568301 0.         0.57478441]\n",
      " [0.35152769 1.17297038 0.41770209 2.01969265 0.58414124 0.29159519\n",
      "  0.48743629 0.57478441 0.        ]]\n"
     ]
    },
    {
     "data": {
      "image/png": "[encoded data removed]",
      "text/plain": [
       "<Figure size 640x480 with 1 Axes>"
      ]
     },
     "metadata": {},
     "output_type": "display_data"
    },
    {
     "name": "stdout",
     "output_type": "stream",
     "text": [
      "Bottleneck distance: 0.5047164093310836\n",
      "Wasserstein distance: = 0.98\n"
     ]
    }
   ],
   "source": [
    "# Compute the persistent homology\n",
    "persistent_homology_1 = compute_phrase_distances_and_homology(context_3[0], text_3[0],  \"די הערצן פֿון די פּובליקום\")\n",
    "persistent_homology_2 = compute_phrase_distances_and_homology(context_4[0], text_4[0],  \"די הערצן פֿון די פּובליקום\")\n",
    "\n",
    "# Convert the persistent homology data to a numpy array\n",
    "persistent_homology_np_1 = np.array([[pt[1][0], pt[1][1]] for pt in persistent_homology_1 if pt[1][1] != float('inf')])\n",
    "persistent_homology_np_2 = np.array([[pt[1][0], pt[1][1]] for pt in persistent_homology_2 if pt[1][1] != float('inf')])\n",
    "\n",
    "# Compute and print the bottleneck distance\n",
    "bottleneck_dist = gd.bottleneck_distance(persistent_homology_np_1, persistent_homology_np_2)\n",
    "print(f\"Bottleneck distance: {bottleneck_dist}\")\n",
    "\n",
    "# Compute and print the Wasserstein distance\n",
    "print(f\"Wasserstein distance: = {wasserstein_distance(persistent_homology_np_1, persistent_homology_np_2, order=1., internal_p=2.):.2f}\")"
   ]
  },
  {
   "cell_type": "code",
   "execution_count": null,
   "metadata": {},
   "outputs": [],
   "source": []
  }
 ],
 "metadata": {
  "kernelspec": {
   "display_name": "env_1",
   "language": "python",
   "name": "python3"
  },
  "language_info": {
   "codemirror_mode": {
    "name": "ipython",
    "version": 3
   },
   "file_extension": ".py",
   "mimetype": "text/x-python",
   "name": "python",
   "nbconvert_exporter": "python",
   "pygments_lexer": "ipython3",
   "version": "3.10.11"
  },
  "orig_nbformat": 4
 },
 "nbformat": 4,
 "nbformat_minor": 2
}
