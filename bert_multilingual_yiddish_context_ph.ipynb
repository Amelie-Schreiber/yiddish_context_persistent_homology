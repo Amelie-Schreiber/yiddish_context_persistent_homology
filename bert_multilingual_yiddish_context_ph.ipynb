{
 "cells": [
  {
   "cell_type": "code",
   "execution_count": 2,
   "metadata": {},
   "outputs": [
    {
     "name": "stdout",
     "output_type": "stream",
     "text": [
      "Note: you may need to restart the kernel to use updated packages.\n"
     ]
    }
   ],
   "source": [
    "pip install transformers torch numpy gudhi -q"
   ]
  },
  {
   "cell_type": "code",
   "execution_count": 3,
   "metadata": {},
   "outputs": [],
   "source": [
    "text = [\"קלעזמער איז אַ טראַדיציאָנעלע ייִדיש מוזיק פון מיטל אייראָפע און רוסלאַנד, וואָס האָט זיך אויסגעוויקלט איבער די יאָרהונדערטן. דאָס נשמה קלאַנג איז קענטשענדיק פֿאַר זייַן הערציקע ניגונים און קענענדיקע ריטמען. זייַנע מוזיק האָט געווינען די באַגלייטונג פֿאַר אַלע לעבענס איבענטן, פֿון די הייליקע יאָמער צו די גלעזלעך פון שנאַפּס.\"]"
   ]
  },
  {
   "cell_type": "code",
   "execution_count": 4,
   "metadata": {},
   "outputs": [
    {
     "name": "stderr",
     "output_type": "stream",
     "text": [
      "Some weights of the model checkpoint at bert-base-multilingual-cased were not used when initializing BertModel: ['cls.predictions.transform.LayerNorm.weight', 'cls.predictions.transform.LayerNorm.bias', 'cls.predictions.transform.dense.bias', 'cls.predictions.transform.dense.weight', 'cls.seq_relationship.weight', 'cls.predictions.bias', 'cls.seq_relationship.bias']\n",
      "- This IS expected if you are initializing BertModel from the checkpoint of a model trained on another task or with another architecture (e.g. initializing a BertForSequenceClassification model from a BertForPreTraining model).\n",
      "- This IS NOT expected if you are initializing BertModel from the checkpoint of a model that you expect to be exactly identical (initializing a BertForSequenceClassification model from a BertForSequenceClassification model).\n"
     ]
    },
    {
     "name": "stdout",
     "output_type": "stream",
     "text": [
      "torch.Size([1, 185, 64])\n",
      "tensor([[[ 0.0922,  0.2668,  0.4133,  ...,  0.0055,  0.4767, -0.5662],\n",
      "         [ 0.3096,  0.2847, -0.2133,  ..., -0.0036, -0.0300,  0.1631],\n",
      "         [ 0.5112,  0.3028,  0.2735,  ...,  0.0194,  0.2580, -0.2954],\n",
      "         ...,\n",
      "         [-0.4977, -0.6440, -0.0718,  ..., -0.3588, -0.0344,  0.1419],\n",
      "         [-0.8935, -0.7553, -0.2037,  ..., -0.0338,  0.2459, -0.2816],\n",
      "         [ 0.3133,  0.4520,  0.1612,  ..., -0.0396,  0.6761, -0.6685]]],\n",
      "       grad_fn=<CloneBackward0>)\n"
     ]
    }
   ],
   "source": [
    "import torch\n",
    "from transformers import BertTokenizer, BertModel\n",
    "from transformers import BertModel, BertTokenizerFast\n",
    "from transformers import AutoTokenizer, AutoModel\n",
    "\n",
    "\n",
    "def compute_output(sentence, layer, head):\n",
    "    # Load pre-trained model\n",
    "    model = BertModel.from_pretrained('bert-base-multilingual-cased', output_attentions=True)\n",
    "    tokenizer = BertTokenizer.from_pretrained('bert-base-multilingual-cased')\n",
    "\n",
    "\n",
    "    # Tokenize input and convert to tensor\n",
    "    inputs = tokenizer(sentence, return_tensors=\"pt\")\n",
    "\n",
    "    # Forward pass\n",
    "    # Specify `output_hidden_states=True` when calling the model\n",
    "    outputs = model(**inputs, output_attentions=True, output_hidden_states=True)\n",
    "\n",
    "    # Obtain the attention weights\n",
    "    attentions = outputs.attentions\n",
    "\n",
    "    # Obtain the attention weights for the specific layer and head\n",
    "    S = attentions[layer][0, head]\n",
    "\n",
    "    # Obtain the value vectors\n",
    "    model.eval()\n",
    "    with torch.no_grad():\n",
    "        hidden_states = outputs.hidden_states[layer]\n",
    "        all_W_v = model.encoder.layer[layer].attention.self.value.weight\n",
    "        num_heads = model.config.num_attention_heads\n",
    "        head_dim = model.config.hidden_size // num_heads\n",
    "        W_v_heads = all_W_v.view(num_heads, head_dim, model.config.hidden_size)\n",
    "        W_v = W_v_heads[head]\n",
    "        V = torch.matmul(hidden_states, W_v.t())\n",
    "\n",
    "    # Compute the output O\n",
    "    O = torch.matmul(S, V)\n",
    "\n",
    "    return O\n",
    "\n",
    "# Set the layer and head to use for computation\n",
    "layer = 5\n",
    "head = 10\n",
    "\n",
    "# Compute the context vectors for each text in the corpus\n",
    "context = [compute_output(t, layer, head) for t in text]\n",
    "print(context[0].shape)\n",
    "print(context[0])"
   ]
  },
  {
   "cell_type": "code",
   "execution_count": 5,
   "metadata": {},
   "outputs": [
    {
     "name": "stdout",
     "output_type": "stream",
     "text": [
      "Barcode for text 0:\n"
     ]
    },
    {
     "data": {
      "image/png": "[encoded data removed]",
      "text/plain": [
       "<Figure size 640x480 with 1 Axes>"
      ]
     },
     "metadata": {},
     "output_type": "display_data"
    }
   ],
   "source": [
    "import matplotlib.pyplot as plt\n",
    "import numpy as np\n",
    "from scipy.spatial import distance_matrix\n",
    "import gudhi as gd\n",
    "\n",
    "def compute_distances_and_plot_barcode(output):\n",
    "    # Detach the output tensor, squeeze, and convert to numpy array\n",
    "    output_np = output.squeeze().detach().numpy()\n",
    "\n",
    "    # Compute the pairwise Euclidean distance matrix\n",
    "    distances = distance_matrix(output_np, output_np)\n",
    "\n",
    "    # Compute the persistent homology of the distance matrix\n",
    "    rips_complex = gd.RipsComplex(distance_matrix=distances, max_edge_length=np.max(distances))\n",
    "    simplex_tree = rips_complex.create_simplex_tree(max_dimension=2)\n",
    "    persistent_homology = simplex_tree.persistence(min_persistence=0.001)\n",
    "    \n",
    "    # Plot the barcode diagram\n",
    "    gd.plot_persistence_barcode(persistence=persistent_homology)\n",
    "    plt.show()\n",
    "\n",
    "# Compute the barcode diagrams for each context vector\n",
    "for i, output in enumerate(context):\n",
    "    print(f\"Barcode for text {i}:\")\n",
    "    compute_distances_and_plot_barcode(output)"
   ]
  },
  {
   "cell_type": "code",
   "execution_count": 6,
   "metadata": {},
   "outputs": [
    {
     "name": "stdout",
     "output_type": "stream",
     "text": [
      "Clusters for text 0:\n",
      "Cluster 0: [CLS], ק, ד, ז, [SEP]\n",
      "Cluster 1: ##די, ##נע, ##פע, ##ס, ##ט\n",
      "Cluster 2: ##א, ##ל\n",
      "Cluster 3: ##ָ, ##ָ\n",
      "Cluster 4: ##וז, ##וז\n",
      "Cluster 5: ##יק, ##יק\n",
      "Cluster 6: ##יר, ##בע, ##בע\n",
      "Cluster 7: ##ָ, ##ָ, ##ָ\n",
      "Cluster 8: ז, אי, די, צ\n",
      "Cluster 9: ##א, ##א\n",
      "Cluster 10: ##ו, ##נד\n",
      "Cluster 11: ##לא, ##ע\n",
      "Cluster 12: ##נג, ##ן\n",
      "Cluster 13: נ, ר\n",
      "Cluster 14: ##ָ, ##ַ\n",
      "Cluster 15: א, די\n",
      "Cluster 16: ל, י\n",
      "Cluster 17: ##נס, ##נט\n",
      "Cluster 18: ,, [UNK]\n",
      "Cluster 19: ה, ג\n",
      "Cluster 20: ##מע, ##פ\n"
     ]
    }
   ],
   "source": [
    "from scipy.spatial.distance import pdist, squareform\n",
    "from sklearn.cluster import DBSCAN\n",
    "from transformers import BertTokenizer\n",
    "from transformers import BertModel, BertTokenizerFast\n",
    "\n",
    "def cluster_and_get_words(context, sentence, eps=2.8):\n",
    "    # Load pre-trained model tokenizer\n",
    "    tokenizer = BertTokenizer.from_pretrained('bert-base-multilingual-cased')\n",
    "\n",
    "\n",
    "    # Tokenize input and convert to tensor\n",
    "    inputs = tokenizer(sentence, return_tensors=\"pt\")\n",
    "    tokens = tokenizer.convert_ids_to_tokens(inputs['input_ids'][0])\n",
    "\n",
    "    # Squeeze the context tensor to remove the batch size dimension\n",
    "    context = context.squeeze(0)\n",
    "\n",
    "    # Compute the pairwise distance matrix\n",
    "    distances = pdist(context.detach().numpy(), 'euclidean')\n",
    "    dist_matrix = squareform(distances)\n",
    "\n",
    "    # Run DBSCAN on the distance matrix\n",
    "    clustering = DBSCAN(eps=eps, min_samples=2, metric='precomputed').fit(dist_matrix)\n",
    "\n",
    "    # Get the words corresponding to each cluster\n",
    "    clusters = {}\n",
    "    for i, label in enumerate(clustering.labels_):\n",
    "        if label != -1:  # Ignore noise (-1 label)\n",
    "            if label not in clusters:\n",
    "                clusters[label] = []\n",
    "            clusters[label].append(tokens[i])\n",
    "\n",
    "    return clusters\n",
    "\n",
    "# Compute the clusters for each context vector\n",
    "clusters = []\n",
    "for i, output in enumerate(context):\n",
    "    print(f\"Clusters for text {i}:\")\n",
    "    clusters.append(cluster_and_get_words(output, text[i]))\n",
    "    for label, words in clusters[-1].items():\n",
    "        print(f\"Cluster {label}: {', '.join(words)}\")"
   ]
  },
  {
   "cell_type": "code",
   "execution_count": 7,
   "metadata": {},
   "outputs": [
    {
     "name": "stdout",
     "output_type": "stream",
     "text": [
      "Tokens of the sub-collection: ['ב', '##א', '##ַ', '##גל', '##ייט', '##ונג', '[UNK]', 'א', '##ַ', '##ל', '##ע', 'ל', '##ע', '##בע', '##נס', 'אי', '##בע', '##נט', '##ן']\n",
      "Distance matrix: (19, 19)\n",
      "Distance matrix: [[0.         4.77972871 4.86033442 5.41981682 4.75305498 5.10571568\n",
      "  4.09498561 3.31065464 3.50288857 4.56311241 5.67028483 5.02209843\n",
      "  4.14613314 4.42277672 4.84650967 4.46523274 3.01930604 4.77375348\n",
      "  4.73200755]\n",
      " [4.77972871 0.         4.85265175 5.08376422 5.13163726 5.08442802\n",
      "  5.41032308 4.87075475 4.29106797 4.62872817 5.63354733 5.29699416\n",
      "  3.79892948 4.82864091 4.61028517 5.1015463  4.84490631 4.10983606\n",
      "  5.52980594]\n",
      " [4.86033442 4.85265175 0.         3.08515798 4.52910714 3.6162419\n",
      "  4.47169216 4.96929206 4.78094576 3.66867823 5.33450721 4.9914493\n",
      "  4.85412365 2.99172175 4.32696484 4.47031323 4.23632081 4.51691727\n",
      "  4.30093823]\n",
      " [5.41981682 5.08376422 3.08515798 0.         4.02646754 3.38392196\n",
      "  4.79453815 5.42741889 5.11296585 3.13015626 4.39272526 4.32205748\n",
      "  4.92552047 4.03587582 3.45149788 4.28210668 5.13707732 4.05284195\n",
      "  4.05679974]\n",
      " [4.75305498 5.13163726 4.52910714 4.02646754 0.         4.48074983\n",
      "  4.82162221 4.39976112 4.61348269 4.38094226 3.45259381 5.14078558\n",
      "  4.76210479 4.97619171 4.1380901  4.61715948 4.75146505 4.71329206\n",
      "  4.15678059]\n",
      " [5.10571568 5.08442802 3.6162419  3.38392196 4.48074983 0.\n",
      "  3.24159095 4.51008217 4.7551253  3.89121679 5.09296456 4.47711464\n",
      "  4.7267931  4.09586103 4.32507685 4.08115972 4.75576195 4.66907602\n",
      "  3.91139095]\n",
      " [4.09498561 5.41032308 4.47169216 4.79453815 4.82162221 3.24159095\n",
      "  0.         3.61313257 4.34378534 4.48124394 5.357805   4.50673915\n",
      "  4.78692981 4.47747646 5.11884588 3.80605049 4.47905521 5.18749858\n",
      "  3.62778315]\n",
      " [3.31065464 4.87075475 4.96929206 5.42741889 4.39976112 4.51008217\n",
      "  3.61313257 0.         3.53606143 4.58170373 5.65035088 5.25209418\n",
      "  4.19363123 4.77555107 5.09364137 4.61841484 3.36136858 4.97325074\n",
      "  4.53106644]\n",
      " [3.50288857 4.29106797 4.78094576 5.11296585 4.61348269 4.7551253\n",
      "  4.34378534 3.53606143 0.         3.93671141 4.97965035 5.12043775\n",
      "  4.09018563 4.26794272 4.71224429 4.89702224 3.82991053 4.06135666\n",
      "  4.8845498 ]\n",
      " [4.56311241 4.62872817 3.66867823 3.13015626 4.38094226 3.89121679\n",
      "  4.48124394 4.58170373 3.93671141 0.         3.91246023 3.42479216\n",
      "  3.78348746 3.26926575 3.34420227 4.03361307 4.32498072 3.53171623\n",
      "  4.59212573]\n",
      " [5.67028483 5.63354733 5.33450721 4.39272526 3.45259381 5.09296456\n",
      "  5.357805   5.65035088 4.97965035 3.91246023 0.         4.53407983\n",
      "  4.82308005 5.17187442 4.26360291 4.73560841 5.64268068 5.43371389\n",
      "  4.99173425]\n",
      " [5.02209843 5.29699416 4.9914493  4.32205748 5.14078558 4.47711464\n",
      "  4.50673915 5.25209418 5.12043775 3.42479216 4.53407983 0.\n",
      "  4.2096299  4.21049377 4.15699251 3.49222477 5.26932725 4.74131893\n",
      "  4.63348698]\n",
      " [4.14613314 3.79892948 4.85412365 4.92552047 4.76210479 4.7267931\n",
      "  4.78692981 4.19363123 4.09018563 3.78348746 4.82308005 4.2096299\n",
      "  0.         4.09419433 3.40000149 4.17005822 4.16562982 4.37862655\n",
      "  5.19378015]\n",
      " [4.42277672 4.82864091 2.99172175 4.03587582 4.97619171 4.09586103\n",
      "  4.47747646 4.77555107 4.26794272 3.26926575 5.17187442 4.21049377\n",
      "  4.09419433 0.         3.76100175 4.0026945  3.86089843 4.14306321\n",
      "  4.3408716 ]\n",
      " [4.84650967 4.61028517 4.32696484 3.45149788 4.1380901  4.32507685\n",
      "  5.11884588 5.09364137 4.71224429 3.34420227 4.26360291 4.15699251\n",
      "  3.40000149 3.76100175 0.         3.40711906 4.49851225 3.43513214\n",
      "  4.00484696]\n",
      " [4.46523274 5.1015463  4.47031323 4.28210668 4.61715948 4.08115972\n",
      "  3.80605049 4.61841484 4.89702224 4.03361307 4.73560841 3.49222477\n",
      "  4.17005822 4.0026945  3.40711906 0.         4.20420993 4.31943714\n",
      "  2.71554353]\n",
      " [3.01930604 4.84490631 4.23632081 5.13707732 4.75146505 4.75576195\n",
      "  4.47905521 3.36136858 3.82991053 4.32498072 5.64268068 5.26932725\n",
      "  4.16562982 3.86089843 4.49851225 4.20420993 0.         4.43597345\n",
      "  4.18246514]\n",
      " [4.77375348 4.10983606 4.51691727 4.05284195 4.71329206 4.66907602\n",
      "  5.18749858 4.97325074 4.06135666 3.53171623 5.43371389 4.74131893\n",
      "  4.37862655 4.14306321 3.43513214 4.31943714 4.43597345 0.\n",
      "  4.44644914]\n",
      " [4.73200755 5.52980594 4.30093823 4.05679974 4.15678059 3.91139095\n",
      "  3.62778315 4.53106644 4.8845498  4.59212573 4.99173425 4.63348698\n",
      "  5.19378015 4.3408716  4.00484696 2.71554353 4.18246514 4.44644914\n",
      "  0.        ]]\n"
     ]
    },
    {
     "data": {
      "image/png": "[encoded data removed]",
      "text/plain": [
       "<Figure size 640x480 with 1 Axes>"
      ]
     },
     "metadata": {},
     "output_type": "display_data"
    },
    {
     "data": {
      "text/plain": [
       "[(1, (3.8608984328268128, 4.465232740952933)),\n",
       " (1, (3.4922247684807837, 4.033613070208813)),\n",
       " (1, (3.627783152917996, 4.056799740471261)),\n",
       " (1, (3.2692657471933106, 3.6686782319770006)),\n",
       " (1, (4.026467540294228, 4.2636029099516195)),\n",
       " (1, (3.936711406261361, 4.165629823698102)),\n",
       " (1, (4.109836058825525, 4.291067972045001)),\n",
       " (1, (4.399761124518861, 4.510082174034456)),\n",
       " (1, (4.182465136793203, 4.204209926632901)),\n",
       " (0, (0.0, inf)),\n",
       " (0, (0.0, 3.9124602276354477)),\n",
       " (0, (0.0, 3.798929481786526)),\n",
       " (0, (0.0, 3.6131325676467694)),\n",
       " (0, (0.0, 3.5028885708693025)),\n",
       " (0, (0.0, 3.45259380681512)),\n",
       " (0, (0.0, 3.435132137229875)),\n",
       " (0, (0.0, 3.424792163847402)),\n",
       " (0, (0.0, 3.407119062818185)),\n",
       " (0, (0.0, 3.4000014862221235)),\n",
       " (0, (0.0, 3.383921956876229)),\n",
       " (0, (0.0, 3.344202273671646)),\n",
       " (0, (0.0, 3.310654636802692)),\n",
       " (0, (0.0, 3.241590954150559)),\n",
       " (0, (0.0, 3.130156259501531)),\n",
       " (0, (0.0, 3.085157977506551)),\n",
       " (0, (0.0, 3.0193060429180605)),\n",
       " (0, (0.0, 2.991721745765174)),\n",
       " (0, (0.0, 2.71554352596528))]"
      ]
     },
     "execution_count": 7,
     "metadata": {},
     "output_type": "execute_result"
    }
   ],
   "source": [
    "from scipy.spatial import distance_matrix\n",
    "import gudhi as gd\n",
    "import numpy as np\n",
    "import matplotlib.pyplot as plt\n",
    "from transformers import BertTokenizer\n",
    "\n",
    "def compute_phrase_distances_and_homology(context_vectors, sentence, phrase):\n",
    "    # Initialize the tokenizer\n",
    "    tokenizer = BertTokenizer.from_pretrained('bert-base-multilingual-cased')\n",
    "\n",
    "    # Tokenize the sentence and the phrase\n",
    "    sentence_tokens = tokenizer.encode(sentence, add_special_tokens=False)\n",
    "    phrase_tokens = tokenizer.encode(phrase, add_special_tokens=False)\n",
    "\n",
    "    # Find the indices of the phrase tokens in the sentence\n",
    "    phrase_indices = []\n",
    "    phrase_length = len(phrase_tokens)\n",
    "    for i in range(len(sentence_tokens) - phrase_length + 1):\n",
    "        if sentence_tokens[i:i+phrase_length] == phrase_tokens:\n",
    "            phrase_indices.extend(range(i, i+phrase_length))\n",
    "            break\n",
    "\n",
    "    # Extract the context vectors for the phrase\n",
    "    phrase_context_vectors = context_vectors[0, phrase_indices]\n",
    "\n",
    "    # Detach the tensor and convert to numpy array\n",
    "    phrase_context_vectors_np = phrase_context_vectors.detach().numpy()\n",
    "\n",
    "    # Print the tokens of the sub-collection and their context vectors\n",
    "    print(f'Tokens of the sub-collection: {tokenizer.convert_ids_to_tokens(phrase_tokens)}')\n",
    "    # print(f'Context vectors of the sub-collection: {phrase_context_vectors_np}')\n",
    "\n",
    "    # Compute the pairwise Euclidean distances among the phrase context vectors\n",
    "    distances = distance_matrix(phrase_context_vectors_np, phrase_context_vectors_np)\n",
    "\n",
    "    # Print the distance matrix\n",
    "    print(f'Distance matrix: {distances.shape}')\n",
    "    print(f'Distance matrix: {distances}')\n",
    "\n",
    "    # Compute the persistent homology of the distance matrix\n",
    "    rips_complex = gd.RipsComplex(distance_matrix=distances, max_edge_length=np.max(distances))\n",
    "    simplex_tree = rips_complex.create_simplex_tree(max_dimension=2)\n",
    "    persistent_homology = simplex_tree.persistence(min_persistence=0.001)\n",
    "\n",
    "    # Plot the barcode diagram\n",
    "    gd.plot_persistence_barcode(persistence=persistent_homology)\n",
    "    plt.show()\n",
    "\n",
    "    return persistent_homology\n",
    "\n",
    "# Assuming that 'context_vectors' is the tensor of context vectors for your sentence,\n",
    "# and 'sentence' is your original sentence, you can use the function like this:\n",
    "compute_phrase_distances_and_homology(context[0], text[0], \"באַגלייטונג פֿאַר אַלע לעבענס איבענטן\")"
   ]
  },
  {
   "cell_type": "code",
   "execution_count": 8,
   "metadata": {},
   "outputs": [],
   "source": [
    "text_2 = [\"ייִדיש ליטעראַטור האָט אַ רייכע געשיכטע, פֿונעם מיטלאַלטער דורך די מאָדערנע צייטן. דער נשמה קלאַנג איז געפילט אין די ווערק פון מנהעם מענדל מאַניס, שאָלום עליכם, און י. ל. פּערעץ. זייַנע ווערטער האָבן געווינען די באַגלייטונג פֿאַר אַלע לעבענס איבענטן, פֿון די עמעסע מאַגילות צו די מאָדערנע ראָמאַנטישע נאָוועלן.\"]"
   ]
  },
  {
   "cell_type": "code",
   "execution_count": 9,
   "metadata": {},
   "outputs": [
    {
     "name": "stderr",
     "output_type": "stream",
     "text": [
      "Some weights of the model checkpoint at bert-base-multilingual-cased were not used when initializing BertModel: ['cls.predictions.transform.LayerNorm.weight', 'cls.predictions.transform.LayerNorm.bias', 'cls.predictions.transform.dense.bias', 'cls.predictions.transform.dense.weight', 'cls.seq_relationship.weight', 'cls.predictions.bias', 'cls.seq_relationship.bias']\n",
      "- This IS expected if you are initializing BertModel from the checkpoint of a model trained on another task or with another architecture (e.g. initializing a BertForSequenceClassification model from a BertForPreTraining model).\n",
      "- This IS NOT expected if you are initializing BertModel from the checkpoint of a model that you expect to be exactly identical (initializing a BertForSequenceClassification model from a BertForSequenceClassification model).\n"
     ]
    },
    {
     "name": "stdout",
     "output_type": "stream",
     "text": [
      "Tokens of the sub-collection: ['ב', '##א', '##ַ', '##גל', '##ייט', '##ונג', '[UNK]', 'א', '##ַ', '##ל', '##ע', 'ל', '##ע', '##בע', '##נס', 'אי', '##בע', '##נט', '##ן']\n",
      "Distance matrix: (19, 19)\n",
      "Distance matrix: [[0.         4.57254268 4.85807584 5.64893846 5.36198953 5.06363856\n",
      "  4.17836306 3.36111374 3.6237041  4.73966668 5.85566408 4.4860037\n",
      "  3.73741901 4.5121634  5.19875031 4.70542355 3.13451017 4.61597902\n",
      "  4.95040268]\n",
      " [4.57254268 0.         4.75930815 5.23099524 5.32517852 5.69689124\n",
      "  5.69876959 4.81122795 4.20866693 4.78610782 5.41894062 5.12057053\n",
      "  4.13482744 4.98454145 4.93723813 5.51192163 5.12283537 4.56611704\n",
      "  5.45788176]\n",
      " [4.85807584 4.75930815 0.         3.50123886 4.70701068 3.8501762\n",
      "  4.58546055 5.03429371 4.51949978 3.67699503 5.3576799  4.29305212\n",
      "  4.34602194 3.09971575 4.25147634 4.4973554  4.31957317 4.25424966\n",
      "  4.28453577]\n",
      " [5.64893846 5.23099524 3.50123886 0.         3.92147482 3.99555119\n",
      "  4.84937421 5.78261173 5.08674746 3.37009842 4.58355083 4.60553837\n",
      "  4.59750166 4.50243652 3.34662473 4.71465895 5.48143879 4.0867163\n",
      "  4.23078046]\n",
      " [5.36198953 5.32517852 4.70701068 3.92147482 0.         4.72078803\n",
      "  4.90520773 5.10697652 4.93843701 4.67955062 3.54690368 4.90288652\n",
      "  4.60825624 5.30624966 4.34197154 4.9283413  5.49442657 4.78275319\n",
      "  4.36295536]\n",
      " [5.06363856 5.69689124 3.8501762  3.99555119 4.72078803 0.\n",
      "  3.47683344 4.65530122 5.05871828 4.46485475 5.35607969 4.24841084\n",
      "  4.5820145  4.32225542 4.73437788 4.14592139 4.72225585 4.98346634\n",
      "  3.8661566 ]\n",
      " [4.17836306 5.69876959 4.58546055 4.84937421 4.90520773 3.47683344\n",
      "  0.         4.00313314 4.54616908 4.66397954 5.51871766 4.01028465\n",
      "  4.57013719 4.74168778 5.07324237 3.76183873 4.67424764 4.90464338\n",
      "  3.57761583]\n",
      " [3.36111374 4.81122795 5.03429371 5.78261173 5.10697652 4.65530122\n",
      "  4.00313314 0.         3.84080324 4.81609275 5.70653707 4.67690196\n",
      "  4.08521082 5.03739214 5.58398464 5.0012902  3.649693   4.91816142\n",
      "  4.93795806]\n",
      " [3.6237041  4.20866693 4.51949978 5.08674746 4.93843701 5.05871828\n",
      "  4.54616908 3.84080324 0.         3.7898915  4.84499851 4.3190353\n",
      "  3.79097361 4.20060159 4.67410682 4.88939073 4.07975646 3.80205937\n",
      "  4.9163744 ]\n",
      " [4.73966668 4.78610782 3.67699503 3.37009842 4.67955062 4.46485475\n",
      "  4.66397954 4.81609275 3.7898915  0.         4.29257651 3.44529403\n",
      "  3.47985674 3.42530054 3.31310397 4.41387021 4.50292737 3.224426\n",
      "  4.86208123]\n",
      " [5.85566408 5.41894062 5.3576799  4.58355083 3.54690368 5.35607969\n",
      "  5.51871766 5.70653707 4.84499851 4.29257651 0.         4.31135683\n",
      "  4.55377461 5.47133896 4.32338821 4.90057297 5.91103129 5.33245381\n",
      "  4.90027199]\n",
      " [4.4860037  5.12057053 4.29305212 4.60553837 4.90288652 4.24841084\n",
      "  4.01028465 4.67690196 4.3190353  3.44529403 4.31135683 0.\n",
      "  3.35681379 3.77213887 4.15400399 3.41073299 4.33671467 4.57969424\n",
      "  4.29011187]\n",
      " [3.73741901 4.13482744 4.34602194 4.59750166 4.60825624 4.5820145\n",
      "  4.57013719 4.08521082 3.79097361 3.47985674 4.55377461 3.35681379\n",
      "  0.         3.59925245 3.57559741 3.86886909 3.68445576 4.19068851\n",
      "  4.56824482]\n",
      " [4.5121634  4.98454145 3.09971575 4.50243652 5.30624966 4.32225542\n",
      "  4.74168778 5.03739214 4.20060159 3.42530054 5.47133896 3.77213887\n",
      "  3.59925245 0.         3.82897844 4.1216511  3.80923721 3.91701711\n",
      "  4.45706579]\n",
      " [5.19875031 4.93723813 4.25147634 3.34662473 4.34197154 4.73437788\n",
      "  5.07324237 5.58398464 4.67410682 3.31310397 4.32338821 4.15400399\n",
      "  3.57559741 3.82897844 0.         3.6849073  4.79431849 3.32493089\n",
      "  3.9360099 ]\n",
      " [4.70542355 5.51192163 4.4973554  4.71465895 4.9283413  4.14592139\n",
      "  3.76183873 5.0012902  4.88939073 4.41387021 4.90057297 3.41073299\n",
      "  3.86886909 4.1216511  3.6849073  0.         4.37208963 4.36178183\n",
      "  2.65469619]\n",
      " [3.13451017 5.12283537 4.31957317 5.48143879 5.49442657 4.72225585\n",
      "  4.67424764 3.649693   4.07975646 4.50292737 5.91103129 4.33671467\n",
      "  3.68445576 3.80923721 4.79431849 4.37208963 0.         4.09106444\n",
      "  4.48577079]\n",
      " [4.61597902 4.56611704 4.25424966 4.0867163  4.78275319 4.98346634\n",
      "  4.90464338 4.91816142 3.80205937 3.224426   5.33245381 4.57969424\n",
      "  4.19068851 3.91701711 3.32493089 4.36178183 4.09106444 0.\n",
      "  4.36722766]\n",
      " [4.95040268 5.45788176 4.28453577 4.23078046 4.36295536 3.8661566\n",
      "  3.57761583 4.93795806 4.9163744  4.86208123 4.90027199 4.29011187\n",
      "  4.56824482 4.45706579 3.9360099  2.65469619 4.48577079 4.36722766\n",
      "  0.        ]]\n"
     ]
    },
    {
     "data": {
      "image/png": "[encoded data removed]",
      "text/plain": [
       "<Figure size 640x480 with 1 Axes>"
      ]
     },
     "metadata": {},
     "output_type": "display_data"
    },
    {
     "data": {
      "text/plain": [
       "[(1, (4.0031331395816565, 4.486003696414056)),\n",
       " (1, (3.850176203738563, 4.2307804602510695)),\n",
       " (1, (3.6849073027435004, 3.8688690913808665)),\n",
       " (1, (3.5012388570771646, 3.6769950285850723)),\n",
       " (1, (4.292576512940903, 4.341971539647064)),\n",
       " (1, (3.7898914969574995, 3.790973606533108)),\n",
       " (0, (0.0, inf)),\n",
       " (0, (0.0, 4.134827437313426)),\n",
       " (0, (0.0, 3.9214748206488523)),\n",
       " (0, (0.0, 3.6844557603541186)),\n",
       " (0, (0.0, 3.623704096531528)),\n",
       " (0, (0.0, 3.5776158334088954)),\n",
       " (0, (0.0, 3.5469036778984364)),\n",
       " (0, (0.0, 3.476833442288839)),\n",
       " (0, (0.0, 3.4452940257753193)),\n",
       " (0, (0.0, 3.4253005429754264)),\n",
       " (0, (0.0, 3.410732987623055)),\n",
       " (0, (0.0, 3.361113737719599)),\n",
       " (0, (0.0, 3.3568137882670284)),\n",
       " (0, (0.0, 3.3466247297618885)),\n",
       " (0, (0.0, 3.313103966736327)),\n",
       " (0, (0.0, 3.2244260018101607)),\n",
       " (0, (0.0, 3.1345101663088446)),\n",
       " (0, (0.0, 3.0997157518500456)),\n",
       " (0, (0.0, 2.6546961862114182))]"
      ]
     },
     "execution_count": 9,
     "metadata": {},
     "output_type": "execute_result"
    }
   ],
   "source": [
    "context_2 = [compute_output(t, layer, head) for t in text_2]\n",
    "compute_phrase_distances_and_homology(context_2[0], text_2[0], \"באַגלייטונג פֿאַר אַלע לעבענס איבענטן\")"
   ]
  },
  {
   "cell_type": "code",
   "execution_count": 10,
   "metadata": {},
   "outputs": [
    {
     "name": "stdout",
     "output_type": "stream",
     "text": [
      "Tokens of the sub-collection: ['ב', '##א', '##ַ', '##גל', '##ייט', '##ונג', '[UNK]', 'א', '##ַ', '##ל', '##ע', 'ל', '##ע', '##בע', '##נס', 'אי', '##בע', '##נט', '##ן']\n",
      "Distance matrix: (19, 19)\n",
      "Distance matrix: [[0.         4.77972871 4.86033442 5.41981682 4.75305498 5.10571568\n",
      "  4.09498561 3.31065464 3.50288857 4.56311241 5.67028483 5.02209843\n",
      "  4.14613314 4.42277672 4.84650967 4.46523274 3.01930604 4.77375348\n",
      "  4.73200755]\n",
      " [4.77972871 0.         4.85265175 5.08376422 5.13163726 5.08442802\n",
      "  5.41032308 4.87075475 4.29106797 4.62872817 5.63354733 5.29699416\n",
      "  3.79892948 4.82864091 4.61028517 5.1015463  4.84490631 4.10983606\n",
      "  5.52980594]\n",
      " [4.86033442 4.85265175 0.         3.08515798 4.52910714 3.6162419\n",
      "  4.47169216 4.96929206 4.78094576 3.66867823 5.33450721 4.9914493\n",
      "  4.85412365 2.99172175 4.32696484 4.47031323 4.23632081 4.51691727\n",
      "  4.30093823]\n",
      " [5.41981682 5.08376422 3.08515798 0.         4.02646754 3.38392196\n",
      "  4.79453815 5.42741889 5.11296585 3.13015626 4.39272526 4.32205748\n",
      "  4.92552047 4.03587582 3.45149788 4.28210668 5.13707732 4.05284195\n",
      "  4.05679974]\n",
      " [4.75305498 5.13163726 4.52910714 4.02646754 0.         4.48074983\n",
      "  4.82162221 4.39976112 4.61348269 4.38094226 3.45259381 5.14078558\n",
      "  4.76210479 4.97619171 4.1380901  4.61715948 4.75146505 4.71329206\n",
      "  4.15678059]\n",
      " [5.10571568 5.08442802 3.6162419  3.38392196 4.48074983 0.\n",
      "  3.24159095 4.51008217 4.7551253  3.89121679 5.09296456 4.47711464\n",
      "  4.7267931  4.09586103 4.32507685 4.08115972 4.75576195 4.66907602\n",
      "  3.91139095]\n",
      " [4.09498561 5.41032308 4.47169216 4.79453815 4.82162221 3.24159095\n",
      "  0.         3.61313257 4.34378534 4.48124394 5.357805   4.50673915\n",
      "  4.78692981 4.47747646 5.11884588 3.80605049 4.47905521 5.18749858\n",
      "  3.62778315]\n",
      " [3.31065464 4.87075475 4.96929206 5.42741889 4.39976112 4.51008217\n",
      "  3.61313257 0.         3.53606143 4.58170373 5.65035088 5.25209418\n",
      "  4.19363123 4.77555107 5.09364137 4.61841484 3.36136858 4.97325074\n",
      "  4.53106644]\n",
      " [3.50288857 4.29106797 4.78094576 5.11296585 4.61348269 4.7551253\n",
      "  4.34378534 3.53606143 0.         3.93671141 4.97965035 5.12043775\n",
      "  4.09018563 4.26794272 4.71224429 4.89702224 3.82991053 4.06135666\n",
      "  4.8845498 ]\n",
      " [4.56311241 4.62872817 3.66867823 3.13015626 4.38094226 3.89121679\n",
      "  4.48124394 4.58170373 3.93671141 0.         3.91246023 3.42479216\n",
      "  3.78348746 3.26926575 3.34420227 4.03361307 4.32498072 3.53171623\n",
      "  4.59212573]\n",
      " [5.67028483 5.63354733 5.33450721 4.39272526 3.45259381 5.09296456\n",
      "  5.357805   5.65035088 4.97965035 3.91246023 0.         4.53407983\n",
      "  4.82308005 5.17187442 4.26360291 4.73560841 5.64268068 5.43371389\n",
      "  4.99173425]\n",
      " [5.02209843 5.29699416 4.9914493  4.32205748 5.14078558 4.47711464\n",
      "  4.50673915 5.25209418 5.12043775 3.42479216 4.53407983 0.\n",
      "  4.2096299  4.21049377 4.15699251 3.49222477 5.26932725 4.74131893\n",
      "  4.63348698]\n",
      " [4.14613314 3.79892948 4.85412365 4.92552047 4.76210479 4.7267931\n",
      "  4.78692981 4.19363123 4.09018563 3.78348746 4.82308005 4.2096299\n",
      "  0.         4.09419433 3.40000149 4.17005822 4.16562982 4.37862655\n",
      "  5.19378015]\n",
      " [4.42277672 4.82864091 2.99172175 4.03587582 4.97619171 4.09586103\n",
      "  4.47747646 4.77555107 4.26794272 3.26926575 5.17187442 4.21049377\n",
      "  4.09419433 0.         3.76100175 4.0026945  3.86089843 4.14306321\n",
      "  4.3408716 ]\n",
      " [4.84650967 4.61028517 4.32696484 3.45149788 4.1380901  4.32507685\n",
      "  5.11884588 5.09364137 4.71224429 3.34420227 4.26360291 4.15699251\n",
      "  3.40000149 3.76100175 0.         3.40711906 4.49851225 3.43513214\n",
      "  4.00484696]\n",
      " [4.46523274 5.1015463  4.47031323 4.28210668 4.61715948 4.08115972\n",
      "  3.80605049 4.61841484 4.89702224 4.03361307 4.73560841 3.49222477\n",
      "  4.17005822 4.0026945  3.40711906 0.         4.20420993 4.31943714\n",
      "  2.71554353]\n",
      " [3.01930604 4.84490631 4.23632081 5.13707732 4.75146505 4.75576195\n",
      "  4.47905521 3.36136858 3.82991053 4.32498072 5.64268068 5.26932725\n",
      "  4.16562982 3.86089843 4.49851225 4.20420993 0.         4.43597345\n",
      "  4.18246514]\n",
      " [4.77375348 4.10983606 4.51691727 4.05284195 4.71329206 4.66907602\n",
      "  5.18749858 4.97325074 4.06135666 3.53171623 5.43371389 4.74131893\n",
      "  4.37862655 4.14306321 3.43513214 4.31943714 4.43597345 0.\n",
      "  4.44644914]\n",
      " [4.73200755 5.52980594 4.30093823 4.05679974 4.15678059 3.91139095\n",
      "  3.62778315 4.53106644 4.8845498  4.59212573 4.99173425 4.63348698\n",
      "  5.19378015 4.3408716  4.00484696 2.71554353 4.18246514 4.44644914\n",
      "  0.        ]]\n"
     ]
    },
    {
     "data": {
      "image/png": "[encoded data removed]",
      "text/plain": [
       "<Figure size 640x480 with 1 Axes>"
      ]
     },
     "metadata": {},
     "output_type": "display_data"
    },
    {
     "name": "stdout",
     "output_type": "stream",
     "text": [
      "Tokens of the sub-collection: ['ב', '##א', '##ַ', '##גל', '##ייט', '##ונג', '[UNK]', 'א', '##ַ', '##ל', '##ע', 'ל', '##ע', '##בע', '##נס', 'אי', '##בע', '##נט', '##ן']\n",
      "Distance matrix: (19, 19)\n",
      "Distance matrix: [[0.         4.57254268 4.85807584 5.64893846 5.36198953 5.06363856\n",
      "  4.17836306 3.36111374 3.6237041  4.73966668 5.85566408 4.4860037\n",
      "  3.73741901 4.5121634  5.19875031 4.70542355 3.13451017 4.61597902\n",
      "  4.95040268]\n",
      " [4.57254268 0.         4.75930815 5.23099524 5.32517852 5.69689124\n",
      "  5.69876959 4.81122795 4.20866693 4.78610782 5.41894062 5.12057053\n",
      "  4.13482744 4.98454145 4.93723813 5.51192163 5.12283537 4.56611704\n",
      "  5.45788176]\n",
      " [4.85807584 4.75930815 0.         3.50123886 4.70701068 3.8501762\n",
      "  4.58546055 5.03429371 4.51949978 3.67699503 5.3576799  4.29305212\n",
      "  4.34602194 3.09971575 4.25147634 4.4973554  4.31957317 4.25424966\n",
      "  4.28453577]\n",
      " [5.64893846 5.23099524 3.50123886 0.         3.92147482 3.99555119\n",
      "  4.84937421 5.78261173 5.08674746 3.37009842 4.58355083 4.60553837\n",
      "  4.59750166 4.50243652 3.34662473 4.71465895 5.48143879 4.0867163\n",
      "  4.23078046]\n",
      " [5.36198953 5.32517852 4.70701068 3.92147482 0.         4.72078803\n",
      "  4.90520773 5.10697652 4.93843701 4.67955062 3.54690368 4.90288652\n",
      "  4.60825624 5.30624966 4.34197154 4.9283413  5.49442657 4.78275319\n",
      "  4.36295536]\n",
      " [5.06363856 5.69689124 3.8501762  3.99555119 4.72078803 0.\n",
      "  3.47683344 4.65530122 5.05871828 4.46485475 5.35607969 4.24841084\n",
      "  4.5820145  4.32225542 4.73437788 4.14592139 4.72225585 4.98346634\n",
      "  3.8661566 ]\n",
      " [4.17836306 5.69876959 4.58546055 4.84937421 4.90520773 3.47683344\n",
      "  0.         4.00313314 4.54616908 4.66397954 5.51871766 4.01028465\n",
      "  4.57013719 4.74168778 5.07324237 3.76183873 4.67424764 4.90464338\n",
      "  3.57761583]\n",
      " [3.36111374 4.81122795 5.03429371 5.78261173 5.10697652 4.65530122\n",
      "  4.00313314 0.         3.84080324 4.81609275 5.70653707 4.67690196\n",
      "  4.08521082 5.03739214 5.58398464 5.0012902  3.649693   4.91816142\n",
      "  4.93795806]\n",
      " [3.6237041  4.20866693 4.51949978 5.08674746 4.93843701 5.05871828\n",
      "  4.54616908 3.84080324 0.         3.7898915  4.84499851 4.3190353\n",
      "  3.79097361 4.20060159 4.67410682 4.88939073 4.07975646 3.80205937\n",
      "  4.9163744 ]\n",
      " [4.73966668 4.78610782 3.67699503 3.37009842 4.67955062 4.46485475\n",
      "  4.66397954 4.81609275 3.7898915  0.         4.29257651 3.44529403\n",
      "  3.47985674 3.42530054 3.31310397 4.41387021 4.50292737 3.224426\n",
      "  4.86208123]\n",
      " [5.85566408 5.41894062 5.3576799  4.58355083 3.54690368 5.35607969\n",
      "  5.51871766 5.70653707 4.84499851 4.29257651 0.         4.31135683\n",
      "  4.55377461 5.47133896 4.32338821 4.90057297 5.91103129 5.33245381\n",
      "  4.90027199]\n",
      " [4.4860037  5.12057053 4.29305212 4.60553837 4.90288652 4.24841084\n",
      "  4.01028465 4.67690196 4.3190353  3.44529403 4.31135683 0.\n",
      "  3.35681379 3.77213887 4.15400399 3.41073299 4.33671467 4.57969424\n",
      "  4.29011187]\n",
      " [3.73741901 4.13482744 4.34602194 4.59750166 4.60825624 4.5820145\n",
      "  4.57013719 4.08521082 3.79097361 3.47985674 4.55377461 3.35681379\n",
      "  0.         3.59925245 3.57559741 3.86886909 3.68445576 4.19068851\n",
      "  4.56824482]\n",
      " [4.5121634  4.98454145 3.09971575 4.50243652 5.30624966 4.32225542\n",
      "  4.74168778 5.03739214 4.20060159 3.42530054 5.47133896 3.77213887\n",
      "  3.59925245 0.         3.82897844 4.1216511  3.80923721 3.91701711\n",
      "  4.45706579]\n",
      " [5.19875031 4.93723813 4.25147634 3.34662473 4.34197154 4.73437788\n",
      "  5.07324237 5.58398464 4.67410682 3.31310397 4.32338821 4.15400399\n",
      "  3.57559741 3.82897844 0.         3.6849073  4.79431849 3.32493089\n",
      "  3.9360099 ]\n",
      " [4.70542355 5.51192163 4.4973554  4.71465895 4.9283413  4.14592139\n",
      "  3.76183873 5.0012902  4.88939073 4.41387021 4.90057297 3.41073299\n",
      "  3.86886909 4.1216511  3.6849073  0.         4.37208963 4.36178183\n",
      "  2.65469619]\n",
      " [3.13451017 5.12283537 4.31957317 5.48143879 5.49442657 4.72225585\n",
      "  4.67424764 3.649693   4.07975646 4.50292737 5.91103129 4.33671467\n",
      "  3.68445576 3.80923721 4.79431849 4.37208963 0.         4.09106444\n",
      "  4.48577079]\n",
      " [4.61597902 4.56611704 4.25424966 4.0867163  4.78275319 4.98346634\n",
      "  4.90464338 4.91816142 3.80205937 3.224426   5.33245381 4.57969424\n",
      "  4.19068851 3.91701711 3.32493089 4.36178183 4.09106444 0.\n",
      "  4.36722766]\n",
      " [4.95040268 5.45788176 4.28453577 4.23078046 4.36295536 3.8661566\n",
      "  3.57761583 4.93795806 4.9163744  4.86208123 4.90027199 4.29011187\n",
      "  4.56824482 4.45706579 3.9360099  2.65469619 4.48577079 4.36722766\n",
      "  0.        ]]\n"
     ]
    },
    {
     "data": {
      "image/png": "[encoded data removed]",
      "text/plain": [
       "<Figure size 640x480 with 1 Axes>"
      ]
     },
     "metadata": {},
     "output_type": "display_data"
    },
    {
     "name": "stdout",
     "output_type": "stream",
     "text": [
      "Bottleneck distance: 0.2223672096779783\n",
      "Wasserstein distance: = 3.16\n"
     ]
    }
   ],
   "source": [
    "# from gudhi.wasserstein import wasserstein_distance \n",
    "# Could also be: \n",
    "from gudhi.hera import wasserstein_distance\n",
    "import numpy as np\n",
    "\n",
    "# Compute the persistent homology\n",
    "persistent_homology_1 = compute_phrase_distances_and_homology(context[0], text[0], \"באַגלייטונג פֿאַר אַלע לעבענס איבענטן\")\n",
    "persistent_homology_2 = compute_phrase_distances_and_homology(context_2[0], text_2[0], \"באַגלייטונג פֿאַר אַלע לעבענס איבענטן\")\n",
    "\n",
    "# Convert the persistent homology data to a numpy array\n",
    "persistent_homology_np_1 = np.array([[pt[1][0], pt[1][1]] for pt in persistent_homology_1 if pt[1][1] != float('inf')])\n",
    "persistent_homology_np_2 = np.array([[pt[1][0], pt[1][1]] for pt in persistent_homology_2 if pt[1][1] != float('inf')])\n",
    "\n",
    "# Compute and print the bottleneck distance\n",
    "bottleneck_dist = gd.bottleneck_distance(persistent_homology_np_1, persistent_homology_np_2)\n",
    "print(f\"Bottleneck distance: {bottleneck_dist}\")\n",
    "\n",
    "# Compute and print the Wasserstein distance\n",
    "print(f\"Wasserstein distance: = {wasserstein_distance(persistent_homology_np_1, persistent_homology_np_2, order=1., internal_p=2.):.2f}\")"
   ]
  },
  {
   "cell_type": "code",
   "execution_count": 11,
   "metadata": {},
   "outputs": [],
   "source": [
    "text_3 = [\"דער ייִדישער טעאַטער האָט אַ רייכע געשיכטע, פון די ערשטע וואַנדערנדיקע טרופּעס אויף די גאַסן פֿון מיטל אייראָפע, ביז צו די בראָדוויי שאָוז פון ניו יאָרק. זייַנע פֿאַרבינדונג פֿאַר אַ חלום האָט געווינען די לייטמאָטיװ פֿאַר פֿילע ייִדישע שטיקען, מיט די וויטגעהענדיקע קאַמעדיען און דראַמען וואָס האָבן געווינען די הערצן פֿון די פּובליקום.\"]\n",
    "\n",
    "text_4 = [\"פֿאַמיליע געטראַפֿענישן זענען אַ וויכטיקער טייל פון טראַדיציאָנעלע ייִדישע קולטור. די פֿאַרבינדונג פֿאַר אַ חלום איז אַ געמיינזאַמע אויסדרוק, וואָס באַזייכנט די וויכטיקייט פון שאַרען די הערצן פֿון די פּובליקום, אַזוי ווי די שבת מאַלזעטן אָדער די יאָמער פֿאַרברענגען.\"]"
   ]
  },
  {
   "cell_type": "code",
   "execution_count": 12,
   "metadata": {},
   "outputs": [
    {
     "name": "stderr",
     "output_type": "stream",
     "text": [
      "Some weights of the model checkpoint at bert-base-multilingual-cased were not used when initializing BertModel: ['cls.predictions.transform.LayerNorm.weight', 'cls.predictions.transform.LayerNorm.bias', 'cls.predictions.transform.dense.bias', 'cls.predictions.transform.dense.weight', 'cls.seq_relationship.weight', 'cls.predictions.bias', 'cls.seq_relationship.bias']\n",
      "- This IS expected if you are initializing BertModel from the checkpoint of a model trained on another task or with another architecture (e.g. initializing a BertForSequenceClassification model from a BertForPreTraining model).\n",
      "- This IS NOT expected if you are initializing BertModel from the checkpoint of a model that you expect to be exactly identical (initializing a BertForSequenceClassification model from a BertForSequenceClassification model).\n",
      "Some weights of the model checkpoint at bert-base-multilingual-cased were not used when initializing BertModel: ['cls.predictions.transform.LayerNorm.weight', 'cls.predictions.transform.LayerNorm.bias', 'cls.predictions.transform.dense.bias', 'cls.predictions.transform.dense.weight', 'cls.seq_relationship.weight', 'cls.predictions.bias', 'cls.seq_relationship.bias']\n",
      "- This IS expected if you are initializing BertModel from the checkpoint of a model trained on another task or with another architecture (e.g. initializing a BertForSequenceClassification model from a BertForPreTraining model).\n",
      "- This IS NOT expected if you are initializing BertModel from the checkpoint of a model that you expect to be exactly identical (initializing a BertForSequenceClassification model from a BertForSequenceClassification model).\n"
     ]
    }
   ],
   "source": [
    "context_3 = [compute_output(t, layer, head) for t in text_3]\n",
    "\n",
    "context_4 = [compute_output(t, layer, head) for t in text_4]"
   ]
  },
  {
   "cell_type": "code",
   "execution_count": 13,
   "metadata": {},
   "outputs": [
    {
     "name": "stdout",
     "output_type": "stream",
     "text": [
      "Tokens of the sub-collection: ['[UNK]', '[UNK]', 'א', '##ַ', 'ח', '##לום']\n",
      "Distance matrix: (6, 6)\n",
      "Distance matrix: [[0.         3.85028166 4.90421696 4.81127062 4.98888363 5.3720175 ]\n",
      " [3.85028166 0.         3.89320591 3.8618817  4.15852831 4.88099584]\n",
      " [4.90421696 3.89320591 0.         1.42046681 4.28277197 5.14230569]\n",
      " [4.81127062 3.8618817  1.42046681 0.         4.04795249 4.57041689]\n",
      " [4.98888363 4.15852831 4.28277197 4.04795249 0.         5.08579338]\n",
      " [5.3720175  4.88099584 5.14230569 4.57041689 5.08579338 0.        ]]\n"
     ]
    },
    {
     "data": {
      "image/png": "[encoded data removed]",
      "text/plain": [
       "<Figure size 640x480 with 1 Axes>"
      ]
     },
     "metadata": {},
     "output_type": "display_data"
    },
    {
     "name": "stdout",
     "output_type": "stream",
     "text": [
      "Tokens of the sub-collection: ['[UNK]', '[UNK]', 'א', '##ַ', 'ח', '##לום']\n",
      "Distance matrix: (6, 6)\n",
      "Distance matrix: [[0.         4.77520175 4.05151797 4.05375705 5.23916821 4.63295327]\n",
      " [4.77520175 0.         3.86890889 4.07904248 5.1808294  4.87253822]\n",
      " [4.05151797 3.86890889 0.         0.96549876 4.04171879 4.37636607]\n",
      " [4.05375705 4.07904248 0.96549876 0.         3.8726732  4.22990661]\n",
      " [5.23916821 5.1808294  4.04171879 3.8726732  0.         5.4644434 ]\n",
      " [4.63295327 4.87253822 4.37636607 4.22990661 5.4644434  0.        ]]\n"
     ]
    },
    {
     "data": {
      "image/png": "[encoded data removed]",
      "text/plain": [
       "<Figure size 640x480 with 1 Axes>"
      ]
     },
     "metadata": {},
     "output_type": "display_data"
    },
    {
     "name": "stdout",
     "output_type": "stream",
     "text": [
      "Bottleneck distance: 0.45496805142792085\n",
      "Wasserstein distance: = 0.83\n"
     ]
    }
   ],
   "source": [
    "# Compute the persistent homology\n",
    "persistent_homology_1 = compute_phrase_distances_and_homology(context_3[0], text_3[0], \"פֿאַרבינדונג פֿאַר אַ חלום\")\n",
    "persistent_homology_2 = compute_phrase_distances_and_homology(context_4[0], text_4[0], \"פֿאַרבינדונג פֿאַר אַ חלום\")\n",
    "\n",
    "# Convert the persistent homology data to a numpy array\n",
    "persistent_homology_np_1 = np.array([[pt[1][0], pt[1][1]] for pt in persistent_homology_1 if pt[1][1] != float('inf')])\n",
    "persistent_homology_np_2 = np.array([[pt[1][0], pt[1][1]] for pt in persistent_homology_2 if pt[1][1] != float('inf')])\n",
    "\n",
    "# Compute and print the bottleneck distance\n",
    "bottleneck_dist = gd.bottleneck_distance(persistent_homology_np_1, persistent_homology_np_2)\n",
    "print(f\"Bottleneck distance: {bottleneck_dist}\")\n",
    "\n",
    "# Compute and print the Wasserstein distance\n",
    "print(f\"Wasserstein distance: = {wasserstein_distance(persistent_homology_np_1, persistent_homology_np_2, order=1., internal_p=2.):.2f}\")"
   ]
  },
  {
   "cell_type": "code",
   "execution_count": 14,
   "metadata": {},
   "outputs": [
    {
     "name": "stdout",
     "output_type": "stream",
     "text": [
      "Tokens of the sub-collection: ['די', 'ה', '##ער', '##צ', '##ן', '[UNK]', 'די', 'פ', '##ּ', '##ובל', '##יקו', '##ם']\n",
      "Distance matrix: (12, 12)\n",
      "Distance matrix: [[0.         4.34292205 5.23309844 4.91971845 4.71055614 4.29214246\n",
      "  5.10440824 4.77662307 5.81536231 5.66712536 6.1728442  4.79279542]\n",
      " [4.34292205 0.         4.28772389 4.390319   4.36468642 4.54500321\n",
      "  2.32302654 3.41524557 4.62983573 4.85148752 5.65654152 4.70012846]\n",
      " [5.23309844 4.28772389 0.         4.28651216 4.97459712 5.83364157\n",
      "  5.26842504 4.10475985 2.62354025 4.9911959  5.76126421 5.66318754]\n",
      " [4.91971845 4.390319   4.28651216 0.         4.4549403  5.27909068\n",
      "  4.67393606 4.33783007 4.28991411 4.63787538 5.22079247 5.04813308]\n",
      " [4.71055614 4.36468642 4.97459712 4.4549403  0.         4.44305133\n",
      "  4.16340265 4.31652667 4.64302365 3.86506447 4.63389275 4.09603956]\n",
      " [4.29214246 4.54500321 5.83364157 5.27909068 4.44305133 0.\n",
      "  4.21583688 4.48962529 5.87028928 5.07622671 5.49719866 4.42120701]\n",
      " [5.10440824 2.32302654 5.26842504 4.67393606 4.16340265 4.21583688\n",
      "  0.         3.51888607 4.99145733 4.75321348 5.55580903 4.71853172]\n",
      " [4.77662307 3.41524557 4.10475985 4.33783007 4.31652667 4.48962529\n",
      "  3.51888607 0.         3.80941768 4.08520911 5.15497374 4.52986162]\n",
      " [5.81536231 4.62983573 2.62354025 4.28991411 4.64302365 5.87028928\n",
      "  4.99145733 3.80941768 0.         3.82386066 4.79256472 4.93077121]\n",
      " [5.66712536 4.85148752 4.9911959  4.63787538 3.86506447 5.07622671\n",
      "  4.75321348 4.08520911 3.82386066 0.         3.55088468 4.27467861]\n",
      " [6.1728442  5.65654152 5.76126421 5.22079247 4.63389275 5.49719866\n",
      "  5.55580903 5.15497374 4.79256472 3.55088468 0.         4.94641148]\n",
      " [4.79279542 4.70012846 5.66318754 5.04813308 4.09603956 4.42120701\n",
      "  4.71853172 4.52986162 4.93077121 4.27467861 4.94641148 0.        ]]\n"
     ]
    },
    {
     "data": {
      "image/png": "[encoded data removed]",
      "text/plain": [
       "<Figure size 640x480 with 1 Axes>"
      ]
     },
     "metadata": {},
     "output_type": "display_data"
    },
    {
     "name": "stdout",
     "output_type": "stream",
     "text": [
      "Tokens of the sub-collection: ['די', 'ה', '##ער', '##צ', '##ן', '[UNK]', 'די', 'פ', '##ּ', '##ובל', '##יקו', '##ם']\n",
      "Distance matrix: (12, 12)\n",
      "Distance matrix: [[0.         3.41892903 4.73060456 4.39483525 3.80041943 3.64705454\n",
      "  4.09075828 4.48581135 5.2396452  4.78257621 5.29514694 3.32500198]\n",
      " [3.41892903 0.         3.96207962 3.94461908 4.50948394 4.17014799\n",
      "  2.2112913  3.50799015 4.4616004  4.70748046 5.85388135 4.63052118]\n",
      " [4.73060456 3.96207962 0.         4.72253107 4.94524561 5.18486101\n",
      "  4.79351105 3.83247273 2.42907952 4.80522257 6.05706001 5.6496735 ]\n",
      " [4.39483525 3.94461908 4.72253107 0.         4.19365742 4.58923324\n",
      "  4.17895052 4.19137543 4.97485048 4.41600269 5.14072729 4.78670561]\n",
      " [3.80041943 4.50948394 4.94524561 4.19365742 0.         4.28317314\n",
      "  4.31641779 4.67140117 4.99952189 4.09987212 4.80537268 4.1109966 ]\n",
      " [3.64705454 4.17014799 5.18486101 4.58923324 4.28317314 0.\n",
      "  3.96904311 4.61022629 5.60240825 5.06420149 5.6575675  4.17634325]\n",
      " [4.09075828 2.2112913  4.79351105 4.17895052 4.31641779 3.96904311\n",
      "  0.         3.56875968 4.84727934 4.92605004 5.88480574 4.71578315]\n",
      " [4.48581135 3.50799015 3.83247273 4.19137543 4.67140117 4.61022629\n",
      "  3.56875968 0.         3.79062516 4.44397733 5.42714896 4.86731205]\n",
      " [5.2396452  4.4616004  2.42907952 4.97485048 4.99952189 5.60240825\n",
      "  4.84727934 3.79062516 0.         4.24183155 5.4984214  5.24594007]\n",
      " [4.78257621 4.70748046 4.80522257 4.41600269 4.09987212 5.06420149\n",
      "  4.92605004 4.44397733 4.24183155 0.         4.17315162 4.41028917]\n",
      " [5.29514694 5.85388135 6.05706001 5.14072729 4.80537268 5.6575675\n",
      "  5.88480574 5.42714896 5.4984214  4.17315162 0.         5.32653576]\n",
      " [3.32500198 4.63052118 5.6496735  4.78670561 4.1109966  4.17634325\n",
      "  4.71578315 4.86731205 5.24594007 4.41028917 5.32653576 0.        ]]\n"
     ]
    },
    {
     "data": {
      "image/png": "[encoded data removed]",
      "text/plain": [
       "<Figure size 640x480 with 1 Axes>"
      ]
     },
     "metadata": {},
     "output_type": "display_data"
    },
    {
     "name": "stdout",
     "output_type": "stream",
     "text": [
      "Bottleneck distance: 0.3014275321252158\n",
      "Wasserstein distance: = 2.23\n"
     ]
    }
   ],
   "source": [
    "# Compute the persistent homology\n",
    "persistent_homology_1 = compute_phrase_distances_and_homology(context_3[0], text_3[0],  \"די הערצן פֿון די פּובליקום\")\n",
    "persistent_homology_2 = compute_phrase_distances_and_homology(context_4[0], text_4[0],  \"די הערצן פֿון די פּובליקום\")\n",
    "\n",
    "# Convert the persistent homology data to a numpy array\n",
    "persistent_homology_np_1 = np.array([[pt[1][0], pt[1][1]] for pt in persistent_homology_1 if pt[1][1] != float('inf')])\n",
    "persistent_homology_np_2 = np.array([[pt[1][0], pt[1][1]] for pt in persistent_homology_2 if pt[1][1] != float('inf')])\n",
    "\n",
    "# Compute and print the bottleneck distance\n",
    "bottleneck_dist = gd.bottleneck_distance(persistent_homology_np_1, persistent_homology_np_2)\n",
    "print(f\"Bottleneck distance: {bottleneck_dist}\")\n",
    "\n",
    "# Compute and print the Wasserstein distance\n",
    "print(f\"Wasserstein distance: = {wasserstein_distance(persistent_homology_np_1, persistent_homology_np_2, order=1., internal_p=2.):.2f}\")"
   ]
  },
  {
   "cell_type": "code",
   "execution_count": null,
   "metadata": {},
   "outputs": [],
   "source": []
  }
 ],
 "metadata": {
  "kernelspec": {
   "display_name": "env_1",
   "language": "python",
   "name": "python3"
  },
  "language_info": {
   "codemirror_mode": {
    "name": "ipython",
    "version": 3
   },
   "file_extension": ".py",
   "mimetype": "text/x-python",
   "name": "python",
   "nbconvert_exporter": "python",
   "pygments_lexer": "ipython3",
   "version": "3.10.11"
  },
  "orig_nbformat": 4
 },
 "nbformat": 4,
 "nbformat_minor": 2
}
